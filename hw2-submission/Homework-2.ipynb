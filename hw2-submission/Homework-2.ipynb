{
 "cells": [
  {
   "cell_type": "markdown",
   "metadata": {},
   "source": [
    "(In order to load the stylesheet of this notebook, execute the last code cell in this notebook)"
   ]
  },
  {
   "cell_type": "markdown",
   "metadata": {},
   "source": [
    "# Yelp Reviews and Clustering"
   ]
  },
  {
   "cell_type": "markdown",
   "metadata": {},
   "source": [
    "In this assignment, we will be working with the [Yelp dataset](http://cs-people.bu.edu/kzhao/teaching/yelp_dataset_challenge_academic_dataset.tar). You can find the format of the dataset [here](https://www.yelp.com/dataset_challenge)."
   ]
  },
  {
   "cell_type": "markdown",
   "metadata": {},
   "source": [
    "First, we will look at Review Objects and perform some [sentiment analysis](http://sentiment.christopherpotts.net/) on the review text.\n",
    "\n",
    "You will need to preprocess the text using a stemming algorithm. The Porter stemming algorithm is a well-known one. Then, use a lexicon to assign a score to a review based on the positive/negative words you find in the text. You can find various lexicons [here](http://sentiment.christopherpotts.net/lexicons.html).\n",
    "\n",
    "After you have assigned scores to the reviews based on the text analysis, compare your scores with the stars associated with the reviews. **(20 pts)**"
   ]
  },
  {
   "cell_type": "code",
   "execution_count": 1,
   "metadata": {
    "collapsed": false,
    "scrolled": false
   },
   "outputs": [
    {
     "name": "stdout",
     "output_type": "stream",
     "text": [
      "2281.563804\n"
     ]
    }
   ],
   "source": [
    "from nltk.stem.porter import PorterStemmer\n",
    "import string\n",
    "import json\n",
    "import time\n",
    "\n",
    "p = PorterStemmer()\n",
    "def stem_word(word):\n",
    "    return p.stem(word)\n",
    "\n",
    "def load_lexicon():\n",
    "    lexicon = dict()\n",
    "    pos = open('positive-words.txt', 'r').read()[1537:].split('\\n') # positive words\n",
    "    neg = open('negative-words.txt', 'r').read()[1541:].split('\\n') # negative words\n",
    "    for word in pos:\n",
    "        lexicon[stem_word(word)] = 1\n",
    "    for word in neg:\n",
    "        lexicon[stem_word(word)] = -1\n",
    "    return lexicon\n",
    "\n",
    "def score_text(text, lexicon):\n",
    "    # remove all punctuation, make everything lowercase, and split into list by whitespace\n",
    "    clean = text.lower().translate(string.maketrans(\"\",\"\"), string.punctuation).split()\n",
    "    score = 0\n",
    "    for word in [stem_word(x) for x in clean]:\n",
    "        if word in lexicon: # if stemmed word in lexicon, add value to score\n",
    "            score += lexicon[word]\n",
    "    return score\n",
    "\n",
    "def parse_review_data(filename):\n",
    "    t = time.clock()\n",
    "    lexicon = load_lexicon()\n",
    "    stars = [] # list of review ratings\n",
    "    scores = [] # list of review scores (to be determined by code)\n",
    "    review = None # variable for current review in for loop\n",
    "    n = 0\n",
    "    for line in open(filename, 'r'):\n",
    "        #if n > 2000:\n",
    "            #break\n",
    "        n += 1\n",
    "        review = json.loads(line) # load review from file\n",
    "        stars.append(review['stars']) # store star rating\n",
    "        # analyze and store review score\n",
    "        scores.append(score_text(review['text'].encode('ascii', 'ignore'), lexicon))\n",
    "    print time.clock() - t\n",
    "    return stars, scores\n",
    "\n",
    "def combine_data(stars, scores):\n",
    "    # dictionary for each star rating\n",
    "    review_info = [{'total': 0, 'avg': 0, 'min': float('inf'), 'max': float('-inf'), \n",
    "                    'pos': 0, 'neg': 0, 'neutral': 0} for i in xrange(5)]\n",
    "    score = 0\n",
    "    index = 0\n",
    "    for i in range(len(stars)): # gather information\n",
    "        index = stars[i] - 1\n",
    "        score = scores[i]\n",
    "        review_info[index]['total'] += 1\n",
    "        review_info[index]['avg'] += score\n",
    "        if score > review_info[index]['max']: review_info[index]['max'] = score\n",
    "        if score < review_info[index]['min']: review_info[index]['min'] = score\n",
    "        if score > 0: review_info[index]['pos'] += 1\n",
    "        elif score < 0: review_info[index]['neg'] += 1\n",
    "        else: review_info[index]['neutral'] += 1\n",
    "    for i in range(5):\n",
    "        review_info[i]['avg'] /= float(review_info[i]['total']) # calculate average\n",
    "    return review_info\n",
    "\n",
    "filename = 'yelp_dataset_challenge_academic_dataset/yelp_academic_dataset_review.json'\n",
    "stars, scores = parse_review_data(filename) # 38 minutes to run on my system\n",
    "review_info = combine_data(stars, scores)"
   ]
  },
  {
   "cell_type": "markdown",
   "metadata": {},
   "source": [
    "Visualization and short (detailed) analysis. **(10 pts)**"
   ]
  },
  {
   "cell_type": "code",
   "execution_count": 2,
   "metadata": {
    "collapsed": false,
    "scrolled": false
   },
   "outputs": [
    {
     "name": "stdout",
     "output_type": "stream",
     "text": [
      "\t\t\t\t  Rating vs. Type of Response\n"
     ]
    },
    {
     "data": {
      "image/png": "[encoded data removed]",
      "text/plain": [
       "<matplotlib.figure.Figure at 0x103fc2950>"
      ]
     },
     "metadata": {},
     "output_type": "display_data"
    },
    {
     "name": "stdout",
     "output_type": "stream",
     "text": [
      "\t\t\t      Avg, Max and Min Review Per Rating\n"
     ]
    },
    {
     "data": {
      "image/png": "[encoded data removed]",
      "text/plain": [
       "<matplotlib.figure.Figure at 0x1147d5450>"
      ]
     },
     "metadata": {},
     "output_type": "display_data"
    },
    {
     "name": "stdout",
     "output_type": "stream",
     "text": [
      "Data For Reviews With 1 Star:\n",
      "-----------------------------\n",
      "Total Reviews:        260492\n",
      "Positive Reviews:     137576 (0.53)\n",
      "Negative Reviews:     91684 (0.35)\n",
      "Neutral Reviews:      31232 (0.12)\n",
      "Max Review Score:     67\n",
      "Min Review Score:     -72\n",
      "Average Review Score: 1.44\n",
      "\n",
      "\n",
      "Data For Reviews With 2 Star:\n",
      "-----------------------------\n",
      "Total Reviews:        190048\n",
      "Positive Reviews:     135493 (0.71)\n",
      "Negative Reviews:     36557 (0.19)\n",
      "Neutral Reviews:      17998 (0.09)\n",
      "Max Review Score:     67\n",
      "Min Review Score:     -43\n",
      "Average Review Score: 3.53\n",
      "\n",
      "\n",
      "Data For Reviews With 3 Star:\n",
      "-----------------------------\n",
      "Total Reviews:        282115\n",
      "Positive Reviews:     241378 (0.86)\n",
      "Negative Reviews:     22766 (0.08)\n",
      "Neutral Reviews:      17971 (0.06)\n",
      "Max Review Score:     89\n",
      "Min Review Score:     -30\n",
      "Average Review Score: 5.56\n",
      "\n",
      "\n",
      "Data For Reviews With 4 Star:\n",
      "-----------------------------\n",
      "Total Reviews:        591618\n",
      "Positive Reviews:     553296 (0.94)\n",
      "Negative Reviews:     18189 (0.03)\n",
      "Neutral Reviews:      20133 (0.03)\n",
      "Max Review Score:     86\n",
      "Min Review Score:     -30\n",
      "Average Review Score: 6.98\n",
      "\n",
      "\n",
      "Data For Reviews With 5 Star:\n",
      "-----------------------------\n",
      "Total Reviews:        900940\n",
      "Positive Reviews:     861501 (0.96)\n",
      "Negative Reviews:     16858 (0.02)\n",
      "Neutral Reviews:      22581 (0.03)\n",
      "Max Review Score:     90\n",
      "Min Review Score:     -47\n",
      "Average Review Score: 7.02\n",
      "\n",
      "\n"
     ]
    }
   ],
   "source": [
    "import matplotlib.pyplot as plt\n",
    "import matplotlib.patches as mpatches\n",
    "%matplotlib inline\n",
    "\n",
    "def print_results(review_info):\n",
    "    for i in range(5):\n",
    "        s = 'Data For Reviews With %d Star:\\n-----------------------------\\n' + \\\n",
    "            'Total Reviews:        %d\\nPositive Reviews:     %d (%.2f)\\nNegative Reviews:' + \\\n",
    "            '     %d (%.2f)\\nNeutral Reviews:      %d (%.2f)\\nMax Review Score:     ' + \\\n",
    "            '%d\\nMin Review Score:     %d\\nAverage Review Score: %.2f\\n\\n'\n",
    "        print s % (i+1, \n",
    "                   review_info[i]['total'], \n",
    "                   review_info[i]['pos'], \n",
    "                   float(review_info[i]['pos'])/review_info[i]['total'],\n",
    "                   review_info[i]['neg'], \n",
    "                   float(review_info[i]['neg'])/review_info[i]['total'], \n",
    "                   review_info[i]['neutral'], \n",
    "                   float(review_info[i]['neutral'])/review_info[i]['total'], \n",
    "                   review_info[i]['max'], \n",
    "                   review_info[i]['min'], \n",
    "                   review_info[i]['avg'])\n",
    "        \n",
    "def stacked_bar_graph(x, y_lst, labels, colors, title, xaxis, yaxis):\n",
    "    xticks = [x[i]-.5 for i in range(len(x))] # so bar graph is in middle of proper number\n",
    "    delta = [0]*len(x) # account for previous lower level to stack\n",
    "    keys = [] # legend of graph\n",
    "    plt.figure(figsize=(12, 6))\n",
    "    for i in range(len(y_lst)):\n",
    "        y = y_lst[i]\n",
    "        plt.bar(xticks, y, 1, bottom=delta, color=colors[i])\n",
    "        keys += [mpatches.Patch(color=colors[i], label=labels[i])]\n",
    "        delta = [delta[j]+y[j] for j in range(len(delta))] # add y to lower bottom level\n",
    "    plt.xlabel(xaxis)\n",
    "    plt.ylabel(yaxis)\n",
    "    plt.legend(handles=keys)\n",
    "    plt.xticks(x) # so labels remain as they should\n",
    "    print title # can't get plt.title to work, I think it's a Python 2 thing I'm not used to\n",
    "    plt.show()\n",
    "    \n",
    "def plot_multiple(x, y_lst, labels, colors, title, xaxis, yaxis):\n",
    "    keys = []\n",
    "    plt.figure(figsize=(12, 6))\n",
    "    for i in range(len(y_lst)):\n",
    "        plt.plot(x, y_lst[i], '-o', color=colors[i])\n",
    "        keys += [mpatches.Patch(color=colors[i], label=labels[i])]\n",
    "    plt.xlabel(xaxis)\n",
    "    plt.ylabel(yaxis)\n",
    "    plt.legend(handles=keys)\n",
    "    plt.xticks(x)\n",
    "    print title # same title issue as in stacked_bar_graph()\n",
    "    plt.show()\n",
    "    \n",
    "X = list(range(1, 6)) # make x range for plots\n",
    "avg_scores = [review_info[i]['avg'] for i in range(5)] # list of average scores per rating\n",
    "max_scores = [review_info[i]['max'] for i in range(5)] # list of max scores per rating\n",
    "min_scores = [review_info[i]['min'] for i in range(5)] # list of min scores per rating\n",
    "types = [list(x) for x in zip(*[[review_info[i]['pos'], \n",
    "          review_info[i]['neg'], \n",
    "          review_info[i]['neutral']] for i in range(5)])] # transpose matrix for stacked bar\n",
    "\n",
    "stacked_bar_graph(X, types, ['Positive', 'Negative', 'Neutral'], ['green', 'red', 'yellow'], \n",
    "                  '\\t\\t\\t\\t  Rating vs. Type of Response', 'Review Rating', \n",
    "                  'Number of Reviews') # plot 1\n",
    "\n",
    "plot_multiple(X, [avg_scores, max_scores, min_scores], ['Avg Score', 'Max Score', 'Min Score'],\n",
    "             ['purple', 'blue', 'green'], '\\t\\t\\t      Avg, Max and Min Review Per Rating', \n",
    "             'Review Rating', 'Review Sentiment') # plot 2\n",
    "\n",
    "print_results(review_info) # print out of all information"
   ]
  },
  {
   "cell_type": "markdown",
   "metadata": {},
   "source": []
  },
  {
   "cell_type": "markdown",
   "metadata": {},
   "source": [
    "Now, let's look at Business Objects. Try to find culinary districts in Las Vegas. These are characterized by closeness and similarity of restaurants. Use the \"longitude\" and \"latitude\" to cluster closeness. Use \"categories\" and \"attributes\" to cluster for similarity.\n",
    "\n",
    "Find clusters using the 3 different techniques we discussed in class: k-means++, hierarchical, and GMM. Explain your data representation and how you determined certain parameters (for example, the number of clusters in k-means++). **(30 pts)**\n",
    "\n",
    "Things you may want to consider:\n",
    "1. The spatial coordinates and restaurant categories/attributes have different units of scale. Your results could be arbitrarily skewed if you don't incorporate some scaling.\n",
    "2. Some restaurant types are inherently more common than others. For example, there are probably lots of \"pizza\" restaurants. You may want to normalize your vectors so that you don't end up with only clusters of \"pizza\" restaurants."
   ]
  },
  {
   "cell_type": "code",
   "execution_count": 75,
   "metadata": {
    "collapsed": false,
    "scrolled": false
   },
   "outputs": [],
   "source": [
    "from sklearn.cluster import KMeans\n",
    "import sklearn.metrics as metrics\n",
    "import numpy as np\n",
    "import json\n",
    "\n",
    "def parse_business_data(filename):\n",
    "    lexicon = load_lexicon()\n",
    "    locations = [] # list of business locations (lat., long.)\n",
    "    similarities = [] # list of (categories, attributes)\n",
    "    business = None # variable for current business in for loop\n",
    "    n = 0\n",
    "    for line in open(filename, 'r'):\n",
    "        if n > 1000:\n",
    "            break\n",
    "        business = json.loads(line) # load business from file\n",
    "        if business['city'] == 'Las Vegas' and business['state'] == 'NV':\n",
    "            n += 1\n",
    "            locations.append([business['latitude'], business['longitude']])\n",
    "            similarities.append((business['categories'], \n",
    "                                 business['attributes']))\n",
    "    return np.array(locations), similarities\n",
    "\n",
    "filename = 'yelp_dataset_challenge_academic_dataset/yelp_academic_dataset_business.json'\n",
    "locations, similarities = parse_business_data(filename)\n",
    "\n",
    "#locations = np.array(locations).T\n",
    "#plt.figure(figsize=(12, 6))\n",
    "#plt.scatter(locations[0], locations[1], marker=\".\")\n",
    "#plt.show()\n"
   ]
  },
  {
   "cell_type": "markdown",
   "metadata": {},
   "source": [
    "Visualize your clusters using each technique. Label your clusters. **(10 pts)**"
   ]
  },
  {
   "cell_type": "code",
   "execution_count": 76,
   "metadata": {
    "collapsed": false,
    "scrolled": false
   },
   "outputs": [
    {
     "data": {
      "image/png": "[encoded data removed]",
      "text/plain": [
       "<matplotlib.figure.Figure at 0x112473290>"
      ]
     },
     "metadata": {},
     "output_type": "display_data"
    },
    {
     "data": {
      "image/png": "[encoded data removed]",
      "text/plain": [
       "<matplotlib.figure.Figure at 0x111dd07d0>"
      ]
     },
     "metadata": {},
     "output_type": "display_data"
    },
    {
     "name": "stdout",
     "output_type": "stream",
     "text": [
      "None\n"
     ]
    }
   ],
   "source": [
    "import matplotlib.pyplot as plt\n",
    "import matplotlib.patches as mpatches\n",
    "%matplotlib inline\n",
    "\n",
    "def plot_cluster(points, labels):\n",
    "    colors = ['red', 'green', 'blue', 'violet', 'orange', \n",
    "              'magenta', 'purple', 'black', 'tan', 'grey']\n",
    "    X = dict()\n",
    "    for i in range(len(labels)):\n",
    "        if labels[i] in X:\n",
    "            X[labels[i]][0].append(points[i][0])\n",
    "            X[labels[i]][1].append(points[i][1])\n",
    "        else:\n",
    "            X[labels[i]] = [[], []]\n",
    "            X[labels[i]][0].append(points[i][0])\n",
    "            X[labels[i]][1].append(points[i][1])\n",
    "    plt.figure(figsize=(12, 6))\n",
    "    for key in X:\n",
    "        plt.scatter(X[key][0], X[key][1], color=colors[key], marker=\".\")\n",
    "    plt.show()\n",
    "    \n",
    "def sc_evaluate_cluster(X, k, show_each=False):\n",
    "    kmeans = KMeans(init='k-means++', n_clusters=k, n_init=10)\n",
    "    kmeans.fit(X)\n",
    "    if show_each:\n",
    "        plot_cluster(X, kmeans.labels_)\n",
    "    return metrics.silhouette_score(X, kmeans.labels_, metric='cosine'), kmeans.labels_\n",
    "\n",
    "def find_best_cluster(X, min_k, max_k, show_each=False):\n",
    "    x = list(range(min_k, max_k + 1))\n",
    "    scores = [0]*(max_k - min_k + 1)\n",
    "    best_labels = None\n",
    "    best_score = float('-inf')\n",
    "    for i in range(min_k, max_k + 1):\n",
    "        score, labels = sc_evaluate_cluster(X, i, show_each=show_each)\n",
    "        scores[i - min_k] = score\n",
    "        if score > best_score:\n",
    "            best_score = score\n",
    "            best_labels = labels\n",
    "    plt.xlabel('Number of clusters')\n",
    "    plt.ylabel('Adjusted Rand Index')\n",
    "    plt.xticks(x)\n",
    "    plt.plot(x, scores)\n",
    "    plt.show()\n",
    "    \n",
    "    plot_cluster(X, best_labels)\n",
    "    \n",
    "\n",
    "print find_best_cluster(locations, 3, 8, show_each=False)"
   ]
  },
  {
   "cell_type": "markdown",
   "metadata": {},
   "source": [
    "Now let's detect outliers. These are the ones who are the farthest from the centroids of their clusters. Track them down and describe any interesting observations that you can make. **(10 pts)**"
   ]
  },
  {
   "cell_type": "code",
   "execution_count": null,
   "metadata": {
    "collapsed": true
   },
   "outputs": [],
   "source": []
  },
  {
   "cell_type": "markdown",
   "metadata": {},
   "source": [
    "Give a short (detailed) analysis comparing the 3 techniques. **(10 pts)**"
   ]
  },
  {
   "cell_type": "markdown",
   "metadata": {},
   "source": []
  },
  {
   "cell_type": "markdown",
   "metadata": {},
   "source": [
    "-----------------"
   ]
  },
  {
   "cell_type": "code",
   "execution_count": null,
   "metadata": {
    "collapsed": false
   },
   "outputs": [],
   "source": [
    "# Code for setting the style of the notebook\n",
    "from IPython.core.display import HTML\n",
    "def css_styling():\n",
    "    styles = open(\"../theme/custom.css\", \"r\").read()\n",
    "    return HTML(styles)\n",
    "css_styling()"
   ]
  }
 ],
 "metadata": {
  "kernelspec": {
   "display_name": "Python 2",
   "language": "python",
   "name": "python2"
  },
  "language_info": {
   "codemirror_mode": {
    "name": "ipython",
    "version": 2
   },
   "file_extension": ".py",
   "mimetype": "text/x-python",
   "name": "python",
   "nbconvert_exporter": "python",
   "pygments_lexer": "ipython2",
   "version": "2.7.11"
  }
 },
 "nbformat": 4,
 "nbformat_minor": 0
}
