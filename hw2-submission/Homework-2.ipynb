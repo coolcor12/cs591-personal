{
 "cells": [
  {
   "cell_type": "markdown",
   "metadata": {},
   "source": [
    "(In order to load the stylesheet of this notebook, execute the last code cell in this notebook)"
   ]
  },
  {
   "cell_type": "markdown",
   "metadata": {},
   "source": [
    "# Yelp Reviews and Clustering"
   ]
  },
  {
   "cell_type": "markdown",
   "metadata": {},
   "source": [
    "In this assignment, we will be working with the [Yelp dataset](http://cs-people.bu.edu/kzhao/teaching/yelp_dataset_challenge_academic_dataset.tar). You can find the format of the dataset [here](https://www.yelp.com/dataset_challenge)."
   ]
  },
  {
   "cell_type": "markdown",
   "metadata": {},
   "source": [
    "First, we will look at Review Objects and perform some [sentiment analysis](http://sentiment.christopherpotts.net/) on the review text.\n",
    "\n",
    "You will need to preprocess the text using a stemming algorithm. The Porter stemming algorithm is a well-known one. Then, use a lexicon to assign a score to a review based on the positive/negative words you find in the text. You can find various lexicons [here](http://sentiment.christopherpotts.net/lexicons.html).\n",
    "\n",
    "After you have assigned scores to the reviews based on the text analysis, compare your scores with the stars associated with the reviews. **(20 pts)**"
   ]
  },
  {
   "cell_type": "code",
   "execution_count": 57,
   "metadata": {
    "collapsed": false,
    "scrolled": false
   },
   "outputs": [
    {
     "name": "stdout",
     "output_type": "stream",
     "text": [
      "5.5006\n"
     ]
    }
   ],
   "source": [
    "from nltk.stem.porter import PorterStemmer\n",
    "import string\n",
    "import json\n",
    "import time\n",
    "\n",
    "p = PorterStemmer()\n",
    "def stem_word(word):\n",
    "    return p.stem(word)\n",
    "\n",
    "def load_lexicon():\n",
    "    lexicon = dict()\n",
    "    pos = open('positive-words.txt', 'r').read()[1537:].split('\\n') # positive words\n",
    "    neg = open('negative-words.txt', 'r').read()[1541:].split('\\n') # negative words\n",
    "    for word in pos:\n",
    "        lexicon[stem_word(word)] = 1\n",
    "    for word in neg:\n",
    "        lexicon[stem_word(word)] = -1\n",
    "    return lexicon\n",
    "\n",
    "def score_text(text, lexicon):\n",
    "    # remove all punctuation, make everything lowercase, and split into list by whitespace\n",
    "    clean = text.lower().translate(string.maketrans(\"\",\"\"), string.punctuation).split()\n",
    "    score = 0\n",
    "    for word in [stem_word(x) for x in clean]:\n",
    "        if word in lexicon: # if stemmed word in lexicon, add value to score\n",
    "            score += lexicon[word]\n",
    "    return score\n",
    "\n",
    "def parse_data(filename):\n",
    "    t = time.clock()\n",
    "    lexicon = load_lexicon()\n",
    "    stars = [] # list of review ratings\n",
    "    scores = [] # list of review scores (to be determined by code)\n",
    "    review = None # variable for current review in for loop\n",
    "    n = 0\n",
    "    for line in open(filename, 'r'):\n",
    "        if n > 5000:\n",
    "            break\n",
    "        n += 1\n",
    "        review = json.loads(line) # load review from file\n",
    "        stars.append(review['stars']) # store star rating\n",
    "        # analyze and store review score\n",
    "        scores.append(score_text(review['text'].encode('ascii', 'ignore'), lexicon))\n",
    "    print time.clock() - t\n",
    "    return stars, scores\n",
    "\n",
    "def combine_data(stars, scores):\n",
    "    # dictionary for each star rating\n",
    "    review_info = [{'total': 0, 'avg': 0, 'min': float('inf'), 'max': float('-inf'), \n",
    "                    'pos': 0, 'neg': 0, 'neutral': 0} for i in xrange(5)]\n",
    "    score = 0\n",
    "    index = 0\n",
    "    for i in range(len(stars)): # gather information\n",
    "        index = stars[i] - 1\n",
    "        score = scores[i]\n",
    "        review_info[index]['total'] += 1\n",
    "        review_info[index]['avg'] += score\n",
    "        if score > review_info[index]['max']: review_info[index]['max'] = score\n",
    "        if score < review_info[index]['min']: review_info[index]['min'] = score\n",
    "        if score > 0: review_info[index]['pos'] += 1\n",
    "        elif score < 0: review_info[index]['neg'] += 1\n",
    "        else: review_info[index]['neutral'] += 1\n",
    "    for i in range(5):\n",
    "        review_info[i]['avg'] /= float(review_info[i]['total']) # calculate average\n",
    "    return review_info\n",
    "\n",
    "filename = 'yelp_dataset_challenge_academic_dataset/yelp_academic_dataset_review.json'\n",
    "stars, scores = parse_data(filename)\n",
    "review_info = combine_data(stars, scores)"
   ]
  },
  {
   "cell_type": "markdown",
   "metadata": {},
   "source": [
    "Visualization and short (detailed) analysis. **(10 pts)**"
   ]
  },
  {
   "cell_type": "code",
   "execution_count": 59,
   "metadata": {
    "collapsed": false,
    "scrolled": false
   },
   "outputs": [
    {
     "name": "stdout",
     "output_type": "stream",
     "text": [
      "\t\t\t\t  Rating vs. Type of Response\n"
     ]
    },
    {
     "data": {
      "image/png": "[encoded data removed]",
      "text/plain": [
       "<matplotlib.figure.Figure at 0x1140bd7d0>"
      ]
     },
     "metadata": {},
     "output_type": "display_data"
    },
    {
     "name": "stdout",
     "output_type": "stream",
     "text": [
      "\t\t\t      Avg, Max and Min Review Per Rating\n"
     ]
    },
    {
     "data": {
      "image/png": "[encoded data removed]",
      "text/plain": [
       "<matplotlib.figure.Figure at 0x11319be50>"
      ]
     },
     "metadata": {},
     "output_type": "display_data"
    },
    {
     "name": "stdout",
     "output_type": "stream",
     "text": [
      "Data For Reviews With 1 Star:\n",
      "-----------------------------\n",
      "Total Reviews:        541\n",
      "Positive Reviews:     255 (0.47)\n",
      "Negative Reviews:     208 (0.38)\n",
      "Neutral Reviews:      78 (0.14)\n",
      "Max Review Score:     30\n",
      "Min Review Score:     -27\n",
      "Average Review Score: 0.90\n",
      "\n",
      "\n",
      "Data For Reviews With 2 Star:\n",
      "-----------------------------\n",
      "Total Reviews:        497\n",
      "Positive Reviews:     352 (0.71)\n",
      "Negative Reviews:     97 (0.20)\n",
      "Neutral Reviews:      48 (0.10)\n",
      "Max Review Score:     25\n",
      "Min Review Score:     -15\n",
      "Average Review Score: 3.44\n",
      "\n",
      "\n",
      "Data For Reviews With 3 Star:\n",
      "-----------------------------\n",
      "Total Reviews:        739\n",
      "Positive Reviews:     651 (0.88)\n",
      "Negative Reviews:     51 (0.07)\n",
      "Neutral Reviews:      37 (0.05)\n",
      "Max Review Score:     36\n",
      "Min Review Score:     -11\n",
      "Average Review Score: 6.20\n",
      "\n",
      "\n",
      "Data For Reviews With 4 Star:\n",
      "-----------------------------\n",
      "Total Reviews:        1389\n",
      "Positive Reviews:     1304 (0.94)\n",
      "Negative Reviews:     36 (0.03)\n",
      "Neutral Reviews:      49 (0.04)\n",
      "Max Review Score:     48\n",
      "Min Review Score:     -6\n",
      "Average Review Score: 7.10\n",
      "\n",
      "\n",
      "Data For Reviews With 5 Star:\n",
      "-----------------------------\n",
      "Total Reviews:        1835\n",
      "Positive Reviews:     1753 (0.96)\n",
      "Negative Reviews:     39 (0.02)\n",
      "Neutral Reviews:      43 (0.02)\n",
      "Max Review Score:     52\n",
      "Min Review Score:     -6\n",
      "Average Review Score: 7.13\n",
      "\n",
      "\n"
     ]
    }
   ],
   "source": [
    "import matplotlib.pyplot as plt\n",
    "import matplotlib.patches as mpatches\n",
    "%matplotlib inline\n",
    "\n",
    "def print_results(review_info):\n",
    "    for i in range(5):\n",
    "        s = 'Data For Reviews With %d Star:\\n-----------------------------\\n' + \\\n",
    "            'Total Reviews:        %d\\nPositive Reviews:     %d (%.2f)\\nNegative Reviews:' + \\\n",
    "            '     %d (%.2f)\\nNeutral Reviews:      %d (%.2f)\\nMax Review Score:     ' + \\\n",
    "            '%d\\nMin Review Score:     %d\\nAverage Review Score: %.2f\\n\\n'\n",
    "        print s % (i+1, \n",
    "                   review_info[i]['total'], \n",
    "                   review_info[i]['pos'], \n",
    "                   float(review_info[i]['pos'])/review_info[i]['total'],\n",
    "                   review_info[i]['neg'], \n",
    "                   float(review_info[i]['neg'])/review_info[i]['total'], \n",
    "                   review_info[i]['neutral'], \n",
    "                   float(review_info[i]['neutral'])/review_info[i]['total'], \n",
    "                   review_info[i]['max'], \n",
    "                   review_info[i]['min'], \n",
    "                   review_info[i]['avg'])\n",
    "        \n",
    "def stacked_bar_graph(x, y_lst, labels, colors, title, xaxis, yaxis):\n",
    "    xticks = [x[i]-.5 for i in range(len(x))] # so bar graph is in middle of proper number\n",
    "    delta = [0]*len(x) # account for previous lower level to stack\n",
    "    keys = [] # legend of graph\n",
    "    plt.figure(figsize=(12, 6))\n",
    "    for i in range(len(y_lst)):\n",
    "        y = y_lst[i]\n",
    "        plt.bar(xticks, y, 1, bottom=delta, color=colors[i])\n",
    "        keys += [mpatches.Patch(color=colors[i], label=labels[i])]\n",
    "        delta = [delta[j]+y[j] for j in range(len(delta))] # add y to lower bottom level\n",
    "    plt.xlabel(xaxis)\n",
    "    plt.ylabel(yaxis)\n",
    "    plt.legend(handles=keys)\n",
    "    plt.xticks(x) # so labels remain as they should\n",
    "    print title # can't get plt.title to work, I think it's a Python 2 thing I'm not used to\n",
    "    plt.show()\n",
    "    \n",
    "def plot_multiple(x, y_lst, labels, colors, title, xaxis, yaxis):\n",
    "    keys = []\n",
    "    plt.figure(figsize=(12, 6))\n",
    "    for i in range(len(y_lst)):\n",
    "        plt.plot(x, y_lst[i], '-o', color=colors[i])\n",
    "        keys += [mpatches.Patch(color=colors[i], label=labels[i])]\n",
    "    plt.xlabel(xaxis)\n",
    "    plt.ylabel(yaxis)\n",
    "    plt.legend(handles=keys)\n",
    "    plt.xticks(x)\n",
    "    print title # same title issue as in stacked_bar_graph()\n",
    "    plt.show()\n",
    "    \n",
    "X = list(range(1, 6)) # make x range for plots\n",
    "avg_scores = [review_info[i]['avg'] for i in range(5)] # list of average scores per rating\n",
    "max_scores = [review_info[i]['max'] for i in range(5)] # list of max scores per rating\n",
    "min_scores = [review_info[i]['min'] for i in range(5)] # list of min scores per rating\n",
    "types = [list(x) for x in zip(*[[review_info[i]['pos'], \n",
    "          review_info[i]['neg'], \n",
    "          review_info[i]['neutral']] for i in range(5)])] # transpose matrix for stacked bar\n",
    "\n",
    "stacked_bar_graph(X, types, ['Positive', 'Negative', 'Neutral'], ['green', 'red', 'yellow'], \n",
    "                  '\\t\\t\\t\\t  Rating vs. Type of Response', 'Review Rating', \n",
    "                  'Number of Reviews') # plot 1\n",
    "\n",
    "plot_multiple(X, [avg_scores, max_scores, min_scores], ['Avg Score', 'Max Score', 'Min Score'],\n",
    "             ['purple', 'blue', 'green'], '\\t\\t\\t      Avg, Max and Min Review Per Rating', \n",
    "             'Review Rating', 'Review Sentiment') # plot 2\n",
    "\n",
    "print_results(review_info) # print out of all information"
   ]
  },
  {
   "cell_type": "markdown",
   "metadata": {},
   "source": []
  },
  {
   "cell_type": "markdown",
   "metadata": {},
   "source": [
    "Now, let's look at Business Objects. Try to find culinary districts in Las Vegas. These are characterized by closeness and similarity of restaurants. Use the \"longitude\" and \"latitude\" to cluster closeness. Use \"categories\" and \"attributes\" to cluster for similarity.\n",
    "\n",
    "Find clusters using the 3 different techniques we discussed in class: k-means++, hierarchical, and GMM. Explain your data representation and how you determined certain parameters (for example, the number of clusters in k-means++). **(30 pts)**\n",
    "\n",
    "Things you may want to consider:\n",
    "1. The spatial coordinates and restaurant categories/attributes have different units of scale. Your results could be arbitrarily skewed if you don't incorporate some scaling.\n",
    "2. Some restaurant types are inherently more common than others. For example, there are probably lots of \"pizza\" restaurants. You may want to normalize your vectors so that you don't end up with only clusters of \"pizza\" restaurants."
   ]
  },
  {
   "cell_type": "code",
   "execution_count": null,
   "metadata": {
    "collapsed": true
   },
   "outputs": [],
   "source": []
  },
  {
   "cell_type": "markdown",
   "metadata": {},
   "source": [
    "Visualize your clusters using each technique. Label your clusters. **(10 pts)**"
   ]
  },
  {
   "cell_type": "code",
   "execution_count": null,
   "metadata": {
    "collapsed": true
   },
   "outputs": [],
   "source": []
  },
  {
   "cell_type": "markdown",
   "metadata": {},
   "source": [
    "Now let's detect outliers. These are the ones who are the farthest from the centroids of their clusters. Track them down and describe any interesting observations that you can make. **(10 pts)**"
   ]
  },
  {
   "cell_type": "code",
   "execution_count": null,
   "metadata": {
    "collapsed": true
   },
   "outputs": [],
   "source": []
  },
  {
   "cell_type": "markdown",
   "metadata": {},
   "source": [
    "Give a short (detailed) analysis comparing the 3 techniques. **(10 pts)**"
   ]
  },
  {
   "cell_type": "markdown",
   "metadata": {},
   "source": []
  },
  {
   "cell_type": "markdown",
   "metadata": {},
   "source": [
    "-----------------"
   ]
  },
  {
   "cell_type": "code",
   "execution_count": null,
   "metadata": {
    "collapsed": false
   },
   "outputs": [],
   "source": [
    "# Code for setting the style of the notebook\n",
    "from IPython.core.display import HTML\n",
    "def css_styling():\n",
    "    styles = open(\"../theme/custom.css\", \"r\").read()\n",
    "    return HTML(styles)\n",
    "css_styling()"
   ]
  }
 ],
 "metadata": {
  "kernelspec": {
   "display_name": "Python 2",
   "language": "python",
   "name": "python2"
  },
  "language_info": {
   "codemirror_mode": {
    "name": "ipython",
    "version": 2
   },
   "file_extension": ".py",
   "mimetype": "text/x-python",
   "name": "python",
   "nbconvert_exporter": "python",
   "pygments_lexer": "ipython2",
   "version": "2.7.11"
  }
 },
 "nbformat": 4,
 "nbformat_minor": 0
}
