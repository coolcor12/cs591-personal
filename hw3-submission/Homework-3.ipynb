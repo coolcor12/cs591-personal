{
 "cells": [
  {
   "cell_type": "markdown",
   "metadata": {},
   "source": [
    "(In order to load the stylesheet of this notebook, execute the last code cell in this notebook)"
   ]
  },
  {
   "cell_type": "markdown",
   "metadata": {},
   "source": [
    "# Analyzing Hotel Ratings on Tripadvisor"
   ]
  },
  {
   "cell_type": "markdown",
   "metadata": {},
   "source": [
    "In this homework we will focus on practicing two techniques: web scraping and regression. For the first part, we will get some basic information for each hotel in Boston. Then, we will fit a regression model on this information and try to analyze it."
   ]
  },
  {
   "cell_type": "markdown",
   "metadata": {},
   "source": [
    "** Task 1 (30 pts)**\n",
    "\n",
    "We will scrape the data using Beautiful Soup. For each hotel that our search returns, we will get the information below.\n",
    "\n",
    "![Information to be scraped](hotel_info.png)\n",
    "\n",
    "Of course, feel free to collect even more data if you want. "
   ]
  },
  {
   "cell_type": "code",
   "execution_count": 1,
   "metadata": {
    "collapsed": false,
    "scrolled": false
   },
   "outputs": [],
   "source": [
    "from BeautifulSoup import BeautifulSoup\n",
    "import requests\n",
    "\n",
    "def download_html(url):\n",
    "    headers = { 'User-Agent' : \"Mozilla/5.0 (Macintosh; Intel Mac \" + \\\n",
    "                \"OS X 10_10_2) AppleWebKit/537.36 (KHTML, like Gecko)\" + \\\n",
    "               \"Chrome/41.0.2272.76 Safari/537.36\" }\n",
    "    response = requests.get(url, headers=headers)\n",
    "    html = response.text.encode('utf-8')\n",
    "    return html\n",
    "\n",
    "def extract_hotel_data():\n",
    "    base_url = 'https://www.tripadvisor.com'\n",
    "    params = '/Hotels-g60745-Boston_Massachusetts-Hotels.html'\n",
    "    hotels = {}\n",
    "    while True:\n",
    "        html = download_html(base_url + params)\n",
    "        soup = BeautifulSoup(html)\n",
    "        next_page = soup.find(\"div\", {\"class\" : \"unified pagination standard_pagination\"})\n",
    "        hotel_boxes = soup.findAll('div', {'class' :'listing easyClear  p13n_imperfect '})\n",
    "        for hotel_box in hotel_boxes:\n",
    "            name = hotel_box.find('div', {'class' :'listing_title'}).find(text=True)\n",
    "            url =  base_url + hotel_box.findAll('a', href= True)[0]['href']\n",
    "            hotels[name] = url\n",
    "        if next_page.find('span', {'class' : 'nav next ui_button disabled'}):\n",
    "            break\n",
    "        else:\n",
    "            hrefs = next_page.findAll('a', href=True)\n",
    "            for href in hrefs:\n",
    "                if href.find(text = True) == 'Next':\n",
    "                    params = href['href']\n",
    "                    break\n",
    "    review_data = load_and_parse_data()\n",
    "    for hotel in hotels:\n",
    "        if hotel in review_data:\n",
    "            hotel_data = get_hotel_attribs(hotels[hotel])\n",
    "            for key in hotel_data:\n",
    "                review_data[hotel][key] = hotel_data[key]\n",
    "    return review_data\n",
    "\n",
    "def load_and_parse_data():\n",
    "    fname = 'rating-summary.dat'\n",
    "    data = [row.split(':') for row in open(fname, 'r').read().split('\\n') if row != '']\n",
    "    \n",
    "    def new_hotel():\n",
    "        return {'Service': {1: 0, 2: 0, 3: 0, 4: 0, 5: 0}, \n",
    "                'Cleanliness': {1: 0, 2: 0, 3: 0, 4: 0, 5: 0},\n",
    "                'Business service (e.g., internet access)': {1: 0, 2: 0, 3: 0, 4: 0, 5: 0},\n",
    "                'Check in / front desk': {1: 0, 2: 0, 3: 0, 4: 0, 5: 0},\n",
    "                'Value': {1: 0, 2: 0, 3: 0, 4: 0, 5: 0},\n",
    "                'Sleep Quality': {1: 0, 2: 0, 3: 0, 4: 0, 5: 0},\n",
    "                'Rooms': {1: 0, 2: 0, 3: 0, 4: 0, 5: 0},\n",
    "                'Location': {1: 0, 2: 0, 3: 0, 4: 0, 5: 0}}\n",
    "    \n",
    "    hotels = dict()\n",
    "    for entry in data:\n",
    "        hotel, cat, rating, count = entry[0], entry[1], int(entry[2]), int(entry[3])\n",
    "        if hotel not in hotels:\n",
    "            hotels[hotel] = dict()\n",
    "            hotels[hotel]['Attribute'] = new_hotel()\n",
    "        hotels[hotel]['Attribute'][cat][rating] += count\n",
    "        \n",
    "    to_remove = []\n",
    "    for hotel in hotels:\n",
    "        for cat in hotels[hotel]['Attribute']:\n",
    "            ratings = list(hotels[hotel]['Attribute'][cat].keys())\n",
    "            count = list(hotels[hotel]['Attribute'][cat].values())\n",
    "            try: # in case hotel has no reviews, avoid division by zero\n",
    "                avg = sum([ratings[i]*count[i] for i in range(5)])/float(sum(count))\n",
    "                hotels[hotel]['Attribute'][cat] = avg\n",
    "            except:\n",
    "                to_remove.append(hotel)\n",
    "                break\n",
    "    \n",
    "    for hotel in to_remove:\n",
    "        hotels.pop(hotel)\n",
    "    \n",
    "    return hotels\n",
    "\n",
    "def get_hotel_attribs(url):\n",
    "    html = download_html(url)\n",
    "    soup = BeautifulSoup(html)\n",
    "    data = {\"Rating\": {}, \"Type\": {}}\n",
    "            \n",
    "    rating_str = \"taplc_prodp13n_hr_sur_review_filter_controls_0_filterRating_\"\n",
    "    for i in range(1, 6):\n",
    "        rating = soup.find(\"label\", {\"for\" : rating_str + str(i)})\n",
    "        rating = int(str(rating.findAll(\"span\")[-2]).partition(\">\")[2].partition(\"<\")[0].replace(\",\", \"\"))\n",
    "        data['Rating'][i] = rating\n",
    "    \n",
    "    ratings = list(data['Rating'].keys())\n",
    "    count = list(data['Rating'].values())\n",
    "    avg = sum([ratings[i]*count[i] for i in range(5)])/float(sum(count))\n",
    "    data['Rating']['Average'] = avg\n",
    "        \n",
    "    type_str = \"taplc_prodp13n_hr_sur_review_filter_controls_0_filterSegment_\"\n",
    "    for typ in ['Family', 'Couples', 'Solo', 'Business', 'Friends']:\n",
    "        trav_typ = soup.find(\"label\", {\"for\" : type_str + typ}).find(\"span\")\n",
    "        trav_typ = int(str(trav_typ).partition(\"(\")[2].partition(\")\")[0].replace(\",\", \"\"))\n",
    "        data['Type'][typ] = trav_typ\n",
    "        \n",
    "    return data\n",
    "            \n",
    "data = extract_hotel_data()"
   ]
  },
  {
   "cell_type": "markdown",
   "metadata": {},
   "source": [
    "** Task 2 (20 pts) **\n",
    "\n",
    "Now, we will use regression to analyze this information. First, we will fit a linear regression model that predicts the average rating. For example, for the hotel above, the average rating is\n",
    "\n",
    "$$ \\text{AVG_SCORE} = \\frac{1*31 + 2*33 + 3*98 + 4*504 + 5*1861}{2527}$$\n",
    "\n",
    "Use the model to analyze the important factors that decide the $\\text{AVG_SCORE}$."
   ]
  },
  {
   "cell_type": "code",
   "execution_count": 2,
   "metadata": {
    "collapsed": false
   },
   "outputs": [
    {
     "name": "stdout",
     "output_type": "stream",
     "text": [
      "                            OLS Regression Results                            \n",
      "==============================================================================\n",
      "Dep. Variable:                      y   R-squared:                       1.000\n",
      "Model:                            OLS   Adj. R-squared:                  1.000\n",
      "Method:                 Least Squares   F-statistic:                     9428.\n",
      "Date:                Tue, 29 Mar 2016   Prob (F-statistic):           3.53e-74\n",
      "Time:                        18:01:53   Log-Likelihood:                 66.122\n",
      "No. Observations:                  59   AIC:                            -106.2\n",
      "Df Residuals:                      46   BIC:                            -79.24\n",
      "Df Model:                          13                                         \n",
      "Covariance Type:            nonrobust                                         \n",
      "==============================================================================\n",
      "                 coef    std err          t      P>|t|      [95.0% Conf. Int.]\n",
      "------------------------------------------------------------------------------\n",
      "x1             0.0049      0.131      0.037      0.971        -0.258     0.268\n",
      "x2             0.4698      0.112      4.205      0.000         0.245     0.695\n",
      "x3             0.2661      0.120      2.224      0.031         0.025     0.507\n",
      "x4             0.0286      0.134      0.213      0.832        -0.241     0.298\n",
      "x5             0.0197      0.037      0.534      0.596        -0.055     0.094\n",
      "x6            -0.0377      0.051     -0.732      0.468        -0.141     0.066\n",
      "x7             0.0946      0.078      1.209      0.233        -0.063     0.252\n",
      "x8             0.1391      0.039      3.531      0.001         0.060     0.218\n",
      "x9             0.0003   9.92e-05      2.609      0.012      5.92e-05     0.000\n",
      "x10           -0.0007      0.000     -1.621      0.112        -0.002     0.000\n",
      "x11           -0.0004      0.000     -1.036      0.306        -0.001     0.000\n",
      "x12         3.155e-05   7.39e-05      0.427      0.672        -0.000     0.000\n",
      "x13        -7.224e-05      0.000     -0.613      0.543        -0.000     0.000\n",
      "==============================================================================\n",
      "Omnibus:                        0.045   Durbin-Watson:                   1.562\n",
      "Prob(Omnibus):                  0.978   Jarque-Bera (JB):                0.196\n",
      "Skew:                          -0.050   Prob(JB):                        0.907\n",
      "Kurtosis:                       2.736   Cond. No.                     1.13e+04\n",
      "==============================================================================\n",
      "\n",
      "Warnings:\n",
      "[1] Standard Errors assume that the covariance matrix of the errors is correctly specified.\n",
      "[2] The condition number is large, 1.13e+04. This might indicate that there are\n",
      "strong multicollinearity or other numerical problems.\n"
     ]
    },
    {
     "name": "stderr",
     "output_type": "stream",
     "text": [
      "/Users/coreyclemente/anaconda/lib/python2.7/site-packages/matplotlib/figure.py:397: UserWarning: matplotlib is currently using a non-GUI backend, so cannot show the figure\n",
      "  \"matplotlib is currently using a non-GUI backend, \"\n"
     ]
    },
    {
     "data": {
      "image/png": "[encoded data removed]",
      "text/plain": [
       "<matplotlib.figure.Figure at 0x1099735d0>"
      ]
     },
     "metadata": {},
     "output_type": "display_data"
    }
   ],
   "source": [
    "import matplotlib.pyplot as plt\n",
    "import statsmodels.api as sm\n",
    "import numpy as np\n",
    "%matplotlib inline\n",
    "\n",
    "sleep = [data[hotel]['Attribute']['Sleep Quality'] for hotel in data]\n",
    "rooms = [data[hotel]['Attribute']['Rooms'] for hotel in data]\n",
    "service = [data[hotel]['Attribute']['Service'] for hotel in data]\n",
    "cleanliness = [data[hotel]['Attribute']['Cleanliness'] for hotel in data]\n",
    "business_service = [data[hotel]['Attribute']['Business service (e.g., internet access)'] for hotel in data]\n",
    "front_desk = [data[hotel]['Attribute']['Check in / front desk'] for hotel in data]\n",
    "value = [data[hotel]['Attribute']['Value'] for hotel in data]\n",
    "location = [data[hotel]['Attribute']['Location'] for hotel in data]\n",
    "couples = [data[hotel]['Type']['Couples'] for hotel in data]\n",
    "solo = [data[hotel]['Type']['Solo'] for hotel in data]\n",
    "friends = [data[hotel]['Type']['Friends'] for hotel in data]\n",
    "business = [data[hotel]['Type']['Business'] for hotel in data]\n",
    "family = [data[hotel]['Type']['Family'] for hotel in data]\n",
    "\n",
    "y_lin = np.array([data[hotel]['Rating']['Average'] for hotel in data])\n",
    "X_lin = np.array([sleep, rooms, service, cleanliness, business_service, front_desk, \\\n",
    "                  value, location, couples, solo, friends, business, family]).T\n",
    "\n",
    "model = sm.OLS(y_lin, X_lin)\n",
    "results = model.fit()\n",
    "print results.summary()\n",
    "\n",
    "fig, axes = plt.subplots(2, 2, figsize=(20, 8))\n",
    "indicies = [(0, 0), (0, 1), (1, 0), (0, 1)]\n",
    "labels = ['room', 'service', 'location']\n",
    "X_plot = [rooms, service, location]\n",
    "\n",
    "for i in range(3):\n",
    "    j, k = indicies[i]\n",
    "    axes[j][k].scatter(X_plot[i], y_lin)\n",
    "    axes[j][k].set_xlabel(labels[i])\n",
    "    fig.show()"
   ]
  },
  {
   "cell_type": "markdown",
   "metadata": {},
   "source": [
    "MY ANALYSIS:\n",
    "\n",
    "The three variables (x2, x3, x8) of room quality, service, and location appear to have statistical importance in predicting the overall rating of hotels on TripAdvisor. Since R-Squared is 1 and the F-score is very small, these results are very likely to hold strong accuracy. \n",
    "\n",
    "x2 (room quality) holds the smallest p value of 0.000, with the largest coefficient throughout all independent variables. I believe these stats, as the quality of the hotel room is very (or even most) significant when considering how nice a hotel is. \n",
    "\n",
    "x8 (location) holds the second smallest p value at 0.001 and the third largest coefficient of 0.14.\n",
    "\n",
    "x3 (service) holds the fourth smallest p value at 0.031 and the second largest coefficient of 0.14.\n",
    "\n",
    "These four variables together make a very good predictor for the overall rating of hotels in this dataset. "
   ]
  },
  {
   "cell_type": "markdown",
   "metadata": {},
   "source": [
    "** Task 3 (30 pts) **\n",
    "\n",
    "Finally, we will use logistic regression to decide if a hotel is _excellent_ or not. We classify a hotel as _excellent_ if more than **60%** of its ratings are 5 stars. This is a binary attribute on which we can fit a logistic regression model. As before, use the model to analyze the data."
   ]
  },
  {
   "cell_type": "code",
   "execution_count": 3,
   "metadata": {
    "collapsed": false,
    "scrolled": true
   },
   "outputs": [
    {
     "name": "stdout",
     "output_type": "stream",
     "text": [
      "Optimization terminated successfully.\n",
      "         Current function value: 0.186547\n",
      "         Iterations 11\n",
      "                           Logit Regression Results                           \n",
      "==============================================================================\n",
      "Dep. Variable:                      y   No. Observations:                   59\n",
      "Model:                          Logit   Df Residuals:                       51\n",
      "Method:                           MLE   Df Model:                            7\n",
      "Date:                Tue, 29 Mar 2016   Pseudo R-squ.:                  0.6595\n",
      "Time:                        18:01:54   Log-Likelihood:                -11.006\n",
      "converged:                       True   LL-Null:                       -32.328\n",
      "                                        LLR p-value:                 3.908e-07\n",
      "==============================================================================\n",
      "                 coef    std err          z      P>|z|      [95.0% Conf. Int.]\n",
      "------------------------------------------------------------------------------\n",
      "x1           -20.5766     11.521     -1.786      0.074       -43.157     2.004\n",
      "x2            57.7804     24.438      2.364      0.018         9.883   105.678\n",
      "x3            31.4245     14.903      2.109      0.035         2.214    60.635\n",
      "x4           -54.2798     22.914     -2.369      0.018       -99.190    -9.369\n",
      "x5             1.6787      2.259      0.743      0.457        -2.749     6.106\n",
      "x6            -2.8798      3.188     -0.903      0.366        -9.128     3.368\n",
      "x7           -18.1021      9.054     -1.999      0.046       -35.847    -0.357\n",
      "x8             5.3210      3.096      1.719      0.086        -0.748    11.390\n",
      "==============================================================================\n"
     ]
    }
   ],
   "source": [
    "y_log = np.array([1 if data[hotel]['Rating'][5] >= sum(list(data[hotel]['Rating'].values()))*.6 \\\n",
    "                     else 0 for hotel in data])\n",
    "X_log = np.array([sleep, rooms, service, cleanliness, business_service, front_desk, \\\n",
    "                  value, location]).T\n",
    "\n",
    "logit = sm.Logit(y_log, X_log)\n",
    "result = logit.fit()\n",
    "print result.summary()"
   ]
  },
  {
   "cell_type": "markdown",
   "metadata": {},
   "source": [
    "MY ANALYSIS:\n",
    "\n",
    "The two variables (x2, x3) of room quality and service appear to increase the likelihood that a hotel is excellent given an increase in those variables. \n",
    "\n",
    "x2 (room quality) holds the smallest p value of 0.018, with the largest coefficient throughout all independent variables.\n",
    "\n",
    "x3 (service) holds the second smallest p value at 0.035 and the second largest coefficient.\n",
    "\n",
    "These two variables are believable, where the combination of how good a room is and how good the service is are strong predictors if a hotel is top-tier or not. "
   ]
  },
  {
   "cell_type": "markdown",
   "metadata": {},
   "source": [
    "-------"
   ]
  },
  {
   "cell_type": "code",
   "execution_count": null,
   "metadata": {
    "collapsed": false
   },
   "outputs": [],
   "source": [
    "# Code for setting the style of the notebook\n",
    "from IPython.core.display import HTML\n",
    "def css_styling():\n",
    "    styles = open(\"../../theme/custom.css\", \"r\").read()\n",
    "    return HTML(styles)\n",
    "css_styling()"
   ]
  }
 ],
 "metadata": {
  "kernelspec": {
   "display_name": "Python 2",
   "language": "python",
   "name": "python2"
  },
  "language_info": {
   "codemirror_mode": {
    "name": "ipython",
    "version": 2
   },
   "file_extension": ".py",
   "mimetype": "text/x-python",
   "name": "python",
   "nbconvert_exporter": "python",
   "pygments_lexer": "ipython2",
   "version": "2.7.11"
  }
 },
 "nbformat": 4,
 "nbformat_minor": 0
}
