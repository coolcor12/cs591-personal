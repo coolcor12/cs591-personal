{
 "cells": [
  {
   "cell_type": "markdown",
   "metadata": {},
   "source": [
    "(In order to load the stylesheet of this notebook, execute the last code cell in this notebook)"
   ]
  },
  {
   "cell_type": "markdown",
   "metadata": {},
   "source": [
    "# Analyzing Hotel Ratings on Tripadvisor"
   ]
  },
  {
   "cell_type": "markdown",
   "metadata": {},
   "source": [
    "In this homework we will focus on practicing two techniques: web scraping and regression. For the first part, we will get some basic information for each hotel in Boston. Then, we will fit a regression model on this information and try to analyze it."
   ]
  },
  {
   "cell_type": "markdown",
   "metadata": {},
   "source": [
    "** Task 1 (30 pts)**\n",
    "\n",
    "We will scrape the data using Beautiful Soup. For each hotel that our search returns, we will get the information below.\n",
    "\n",
    "![Information to be scraped](hotel_info.png)\n",
    "\n",
    "Of course, feel free to collect even more data if you want. "
   ]
  },
  {
   "cell_type": "code",
   "execution_count": 58,
   "metadata": {
    "collapsed": false,
    "scrolled": false
   },
   "outputs": [
    {
     "name": "stdout",
     "output_type": "stream",
     "text": [
      "https://www.tripadvisor.com/Hotel_Review-g60745-d89599-Reviews-Or0Omni_Parker_House-Boston_Massachusetts.html\n"
     ]
    }
   ],
   "source": [
    "from BeautifulSoup import BeautifulSoup\n",
    "import requests\n",
    "import time\n",
    "\n",
    "def download_html(url):\n",
    "    headers = { 'User-Agent' : \"Mozilla/5.0 (Macintosh; Intel Mac \" + \\\n",
    "                \"OS X 10_10_2) AppleWebKit/537.36 (KHTML, like Gecko)\" + \\\n",
    "               \"Chrome/41.0.2272.76 Safari/537.36\" }\n",
    "    response = requests.get(url, headers=headers)\n",
    "    html = response.text.encode('utf-8')\n",
    "    return html\n",
    "\n",
    "def extract_hotel_data():\n",
    "    base_url = 'https://www.tripadvisor.com'\n",
    "    params = '/Hotels-g60745-Boston_Massachusetts-Hotels.html'\n",
    "    hotels = {}\n",
    "    while True:\n",
    "        html = download_html(base_url + params)\n",
    "        soup = BeautifulSoup(html)\n",
    "        next_page = soup.find(\"div\", {\"class\" : \"unified pagination standard_pagination\"})\n",
    "        hotel_boxes = soup.findAll('div', {'class' :'listing easyClear  p13n_imperfect '})\n",
    "        for hotel_box in hotel_boxes:\n",
    "            name = hotel_box.find('div', {'class' :'listing_title'}).find(text=True)\n",
    "            url =  base_url + hotel_box.findAll('a', href= True)[0]['href']\n",
    "            hotels[name] = url\n",
    "        if next_page.find('span', {'class' : 'nav next ui_button disabled'}):\n",
    "            break\n",
    "        else:\n",
    "            hrefs = next_page.findAll('a', href=True)\n",
    "            for href in hrefs:\n",
    "                if href.find(text = True) == 'Next':\n",
    "                    params = href['href']\n",
    "                    break\n",
    "            #time.sleep(2)\n",
    "    review_data = load_and_parse_data()\n",
    "    for hotel in hotels:\n",
    "        #time.sleep(2)\n",
    "        hotel_data = get_hotel_attribs(hotels[hotel])\n",
    "        if hotel in review_data:\n",
    "            for key in hotel_data:\n",
    "                review_data[hotel][key] = hotel_data[key]\n",
    "        else:\n",
    "            print(hotel + ' does not exist!')\n",
    "    return review_data\n",
    "\n",
    "def load_and_parse_data():\n",
    "    fname = 'rating-summary.dat'\n",
    "    data = [row.split(':') for row in open(fname, 'r').read().split('\\n') if row != '']\n",
    "    \n",
    "    def new_hotel():\n",
    "        return {'Service': {1: 0, 2: 0, 3: 0, 4: 0, 5: 0}, \n",
    "                'Cleanliness': {1: 0, 2: 0, 3: 0, 4: 0, 5: 0},\n",
    "                'Business service (e.g., internet access)': {1: 0, 2: 0, 3: 0, 4: 0, 5: 0},\n",
    "                'Check in / front desk': {1: 0, 2: 0, 3: 0, 4: 0, 5: 0},\n",
    "                'Value': {1: 0, 2: 0, 3: 0, 4: 0, 5: 0},\n",
    "                'Sleep Quality': {1: 0, 2: 0, 3: 0, 4: 0, 5: 0},\n",
    "                'Rooms': {1: 0, 2: 0, 3: 0, 4: 0, 5: 0},\n",
    "                'Location': {1: 0, 2: 0, 3: 0, 4: 0, 5: 0}}\n",
    "    \n",
    "    hotels = dict()\n",
    "    for entry in data:\n",
    "        hotel, cat, rating, count = entry[0], entry[1], int(entry[2]), int(entry[3])\n",
    "        if hotel not in hotels:\n",
    "            hotels[hotel] = dict()\n",
    "            hotels[hotel]['Attribute'] = new_hotel()\n",
    "        hotels[hotel]['Attribute'][cat][rating] += count\n",
    "        \n",
    "    to_remove = []\n",
    "    for hotel in hotels:\n",
    "        for cat in hotels[hotel]['Attribute']:\n",
    "            ratings = list(hotels[hotel]['Attribute'][cat].keys())\n",
    "            count = list(hotels[hotel]['Attribute'][cat].values())\n",
    "            try: # in case hotel has no reviews, avoid division by zero\n",
    "                avg = sum([ratings[i]*count[i] for i in range(5)])/float(sum(count))\n",
    "                hotels[hotel]['Attribute'][cat] = avg\n",
    "            except:\n",
    "                to_remove.append(hotel)\n",
    "                break\n",
    "    \n",
    "    for hotel in to_remove:\n",
    "        hotels.pop(hotel)\n",
    "    \n",
    "    return hotels\n",
    "\n",
    "def get_hotel_attribs(url):\n",
    "    html = download_html(url)\n",
    "    soup = BeautifulSoup(html)\n",
    "    data = {\"Rating\": {}, \"Type\": {}}\n",
    "            \n",
    "    rating_str = \"taplc_prodp13n_hr_sur_review_filter_controls_0_filterRating_\"\n",
    "    for i in range(1, 6):\n",
    "        rating = soup.find(\"label\", {\"for\" : rating_str + str(i)})\n",
    "        rating = int(str(rating.findAll(\"span\")[-2]).partition(\">\")[2].partition(\"<\")[0].replace(\",\", \"\"))\n",
    "        data['Rating'][i] = rating\n",
    "    \n",
    "    ratings = list(data['Rating'].keys())\n",
    "    count = list(data['Rating'].values())\n",
    "    avg = sum([ratings[i]*count[i] for i in range(5)])/float(sum(count))\n",
    "    data['Rating']['Average'] = avg\n",
    "        \n",
    "    type_str = \"taplc_prodp13n_hr_sur_review_filter_controls_0_filterSegment_\"\n",
    "    for typ in ['Family', 'Couples', 'Solo', 'Business', 'Friends']:\n",
    "        trav_typ = soup.find(\"label\", {\"for\" : type_str + typ}).find(\"span\")\n",
    "        trav_typ = int(str(trav_typ).partition(\"(\")[2].partition(\")\")[0].replace(\",\", \"\"))\n",
    "        data['Type'][typ] = trav_typ\n",
    "        \n",
    "    return data\n",
    "\n",
    "def get_omni_parker_data():\n",
    "    base_url = 'https://www.tripadvisor.com'\n",
    "    review_url = 'https://www.tripadvisor.com/Hotel_Review-g60745-d89599-Reviews-Or%d-Omni_Parker_House-Boston_Massachusetts.html' % 0\n",
    "    review_urls = []\n",
    "    i = 0\n",
    "    while True:\n",
    "        review_url = 'https://www.tripadvisor.com/Hotel_Review-g60745-d89599-Reviews-Or%d-Omni_Parker_House-Boston_Massachusetts.html' % i\n",
    "        html = download_html(review_url)\n",
    "        soup = BeautifulSoup(html)\n",
    "        next_page = soup.find(\"div\", {\"class\" : \"unified pagination standard_pagination\"})\n",
    "        review_boxes = soup.findAll('div', {'class' :'rating-list'})\n",
    "        for review in review_boxes:\n",
    "            print review\n",
    "            print \n",
    "            print\n",
    "        if next_page.find('span', {'class' : 'nav next ui_button disabled'}):\n",
    "            break\n",
    "        else:\n",
    "            print 'Found!!'\n",
    "            break\n",
    "            hrefs = next_page.findAll('a', href=True)\n",
    "            for href in hrefs:\n",
    "                if href.find(text = True) == 'Next':\n",
    "                    params = href['href']\n",
    "                    break\n",
    "            #time.sleep(2)\n",
    "            \n",
    "#data = extract_hotel_data()\n",
    "#f = open('first_test.txt', 'w')\n",
    "#f.write(str(data))\n",
    "#f.close()\n",
    "#print('Done!')\n",
    "\n",
    "get_omni_parker_data()"
   ]
  },
  {
   "cell_type": "markdown",
   "metadata": {},
   "source": [
    "** Task 2 (20 pts) **\n",
    "\n",
    "Now, we will use regression to analyze this information. First, we will fit a linear regression model that predicts the average rating. For example, for the hotel above, the average rating is\n",
    "\n",
    "$$ \\text{AVG_SCORE} = \\frac{1*31 + 2*33 + 3*98 + 4*504 + 5*1861}{2527}$$\n",
    "\n",
    "Use the model to analyze the important factors that decide the $\\text{AVG_SCORE}$."
   ]
  },
  {
   "cell_type": "code",
   "execution_count": 48,
   "metadata": {
    "collapsed": false
   },
   "outputs": [
    {
     "name": "stdout",
     "output_type": "stream",
     "text": [
      "                            OLS Regression Results                            \n",
      "==============================================================================\n",
      "Dep. Variable:                      y   R-squared:                       1.000\n",
      "Model:                            OLS   Adj. R-squared:                  1.000\n",
      "Method:                 Least Squares   F-statistic:                 1.329e+04\n",
      "Date:                Mon, 28 Mar 2016   Prob (F-statistic):           1.80e-76\n",
      "Time:                        02:24:05   Log-Likelihood:                 79.120\n",
      "No. Observations:                  59   AIC:                            -130.2\n",
      "Df Residuals:                      45   BIC:                            -101.2\n",
      "Df Model:                          14                                         \n",
      "Covariance Type:            nonrobust                                         \n",
      "==============================================================================\n",
      "                 coef    std err          t      P>|t|      [95.0% Conf. Int.]\n",
      "------------------------------------------------------------------------------\n",
      "x1             0.0052      0.106      0.049      0.961        -0.209     0.219\n",
      "x2             0.4484      0.093      4.842      0.000         0.262     0.635\n",
      "x3             0.2948      0.098      3.005      0.004         0.097     0.492\n",
      "x4             0.0161      0.112      0.144      0.886        -0.209     0.242\n",
      "x5             0.0268      0.030      0.891      0.378        -0.034     0.087\n",
      "x6            -0.0416      0.042     -1.001      0.322        -0.125     0.042\n",
      "x7             0.0722      0.065      1.118      0.270        -0.058     0.202\n",
      "x8             0.1586      0.032      4.934      0.000         0.094     0.223\n",
      "x9             0.0002   7.81e-05      2.527      0.015      4.01e-05     0.000\n",
      "x10           -0.0004      0.000     -1.137      0.262        -0.001     0.000\n",
      "x11        -3.992e-05      0.000     -0.110      0.913        -0.001     0.001\n",
      "x12         6.606e-05   5.88e-05      1.124      0.267     -5.24e-05     0.000\n",
      "x13           -0.0002      0.000     -1.472      0.148        -0.000  5.55e-05\n",
      "x14           -0.0005      0.000     -2.566      0.014        -0.001    -0.000\n",
      "==============================================================================\n",
      "Omnibus:                        1.569   Durbin-Watson:                   1.645\n",
      "Prob(Omnibus):                  0.456   Jarque-Bera (JB):                0.901\n",
      "Skew:                          -0.261   Prob(JB):                        0.637\n",
      "Kurtosis:                       3.306   Cond. No.                     1.24e+04\n",
      "==============================================================================\n",
      "\n",
      "Warnings:\n",
      "[1] Standard Errors assume that the covariance matrix of the errors is correctly specified.\n",
      "[2] The condition number is large, 1.24e+04. This might indicate that there are\n",
      "strong multicollinearity or other numerical problems.\n"
     ]
    }
   ],
   "source": [
    "import statsmodels.api as sm\n",
    "import numpy as np\n",
    "\n",
    "sleep = [data[hotel]['Attribute']['Sleep Quality'] for hotel in data]\n",
    "rooms = [data[hotel]['Attribute']['Rooms'] for hotel in data]\n",
    "service = [data[hotel]['Attribute']['Service'] for hotel in data]\n",
    "cleanliness = [data[hotel]['Attribute']['Cleanliness'] for hotel in data]\n",
    "business_service = [data[hotel]['Attribute']['Business service (e.g., internet access)'] for hotel in data]\n",
    "front_desk = [data[hotel]['Attribute']['Check in / front desk'] for hotel in data]\n",
    "value = [data[hotel]['Attribute']['Value'] for hotel in data]\n",
    "location = [data[hotel]['Attribute']['Location'] for hotel in data]\n",
    "couples = [data[hotel]['Type']['Couples'] for hotel in data]\n",
    "solo = [data[hotel]['Type']['Solo'] for hotel in data]\n",
    "friends = [data[hotel]['Type']['Friends'] for hotel in data]\n",
    "business = [data[hotel]['Type']['Business'] for hotel in data]\n",
    "family = [data[hotel]['Type']['Family'] for hotel in data]\n",
    "rating1 = [data[hotel]['Rating'][1] for hotel in data]\n",
    "rating2 = [data[hotel]['Rating'][2] for hotel in data]\n",
    "rating3 = [data[hotel]['Rating'][3] for hotel in data]\n",
    "rating4 = [data[hotel]['Rating'][4] for hotel in data]\n",
    "rating5 = [data[hotel]['Rating'][5] for hotel in data]\n",
    "\n",
    "y_lin = np.array([data[hotel]['Rating']['Average'] for hotel in data])\n",
    "X_lin = np.array([sleep, rooms, service, cleanliness, business_service, front_desk, \\\n",
    "                  value, location, couples, solo, friends, business, family, rating1, \\\n",
    "                  rating2, rating3, rating4, rating5]).T\n",
    "\n",
    "model = sm.OLS(y, X)\n",
    "results = model.fit()\n",
    "print results.summary()"
   ]
  },
  {
   "cell_type": "markdown",
   "metadata": {},
   "source": [
    "** Task 3 (30 pts) **\n",
    "\n",
    "Finally, we will use logistic regression to decide if a hotel is _excellent_ or not. We classify a hotel as _excellent_ if more than **60%** of its ratings are 5 stars. This is a binary attribute on which we can fit a logistic regression model. As before, use the model to analyze the data."
   ]
  },
  {
   "cell_type": "code",
   "execution_count": 49,
   "metadata": {
    "collapsed": false,
    "scrolled": false
   },
   "outputs": [
    {
     "name": "stdout",
     "output_type": "stream",
     "text": [
      "Optimization terminated successfully.\n",
      "         Current function value: 0.186547\n",
      "         Iterations 11\n",
      "                           Logit Regression Results                           \n",
      "==============================================================================\n",
      "Dep. Variable:                      y   No. Observations:                   59\n",
      "Model:                          Logit   Df Residuals:                       51\n",
      "Method:                           MLE   Df Model:                            7\n",
      "Date:                Mon, 28 Mar 2016   Pseudo R-squ.:                  0.6595\n",
      "Time:                        02:24:07   Log-Likelihood:                -11.006\n",
      "converged:                       True   LL-Null:                       -32.328\n",
      "                                        LLR p-value:                 3.908e-07\n",
      "==============================================================================\n",
      "                 coef    std err          z      P>|z|      [95.0% Conf. Int.]\n",
      "------------------------------------------------------------------------------\n",
      "x1           -20.5766     11.521     -1.786      0.074       -43.157     2.004\n",
      "x2            57.7804     24.438      2.364      0.018         9.883   105.678\n",
      "x3            31.4245     14.903      2.109      0.035         2.214    60.635\n",
      "x4           -54.2798     22.914     -2.369      0.018       -99.190    -9.369\n",
      "x5             1.6787      2.259      0.743      0.457        -2.749     6.106\n",
      "x6            -2.8798      3.188     -0.903      0.366        -9.128     3.368\n",
      "x7           -18.1021      9.054     -1.999      0.046       -35.847    -0.357\n",
      "x8             5.3210      3.096      1.719      0.086        -0.748    11.390\n",
      "==============================================================================\n"
     ]
    }
   ],
   "source": [
    "y_log = np.array([1 if data[hotel]['Rating'][5] >= sum(list(data[hotel]['Rating'].values()))*.6 \\\n",
    "                     else 0 for hotel in data])\n",
    "\n",
    "logit = sm.Logit(y_log, X_log)\n",
    "result = logit.fit()\n",
    "print result.summary()"
   ]
  },
  {
   "cell_type": "markdown",
   "metadata": {},
   "source": [
    "-------"
   ]
  },
  {
   "cell_type": "code",
   "execution_count": null,
   "metadata": {
    "collapsed": false
   },
   "outputs": [],
   "source": [
    "# Code for setting the style of the notebook\n",
    "from IPython.core.display import HTML\n",
    "def css_styling():\n",
    "    styles = open(\"../../theme/custom.css\", \"r\").read()\n",
    "    return HTML(styles)\n",
    "css_styling()"
   ]
  }
 ],
 "metadata": {
  "kernelspec": {
   "display_name": "Python 2",
   "language": "python",
   "name": "python2"
  },
  "language_info": {
   "codemirror_mode": {
    "name": "ipython",
    "version": 2
   },
   "file_extension": ".py",
   "mimetype": "text/x-python",
   "name": "python",
   "nbconvert_exporter": "python",
   "pygments_lexer": "ipython2",
   "version": "2.7.11"
  }
 },
 "nbformat": 4,
 "nbformat_minor": 0
}
