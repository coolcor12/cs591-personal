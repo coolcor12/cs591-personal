{
 "cells": [
  {
   "cell_type": "markdown",
   "metadata": {},
   "source": [
    "(In order to load the stylesheet of this notebook, execute the last code cell in this notebook)"
   ]
  },
  {
   "cell_type": "markdown",
   "metadata": {},
   "source": [
    "# Analyzing Hotel Ratings on Tripadvisor"
   ]
  },
  {
   "cell_type": "markdown",
   "metadata": {},
   "source": [
    "In this homework we will focus on practicing two techniques: web scraping and regression. For the first part, we will get some basic information for each hotel in Boston. Then, we will fit a regression model on this information and try to analyze it."
   ]
  },
  {
   "cell_type": "markdown",
   "metadata": {},
   "source": [
    "** Task 1 (30 pts)**\n",
    "\n",
    "We will scrape the data using Beautiful Soup. For each hotel that our search returns, we will get the information below.\n",
    "\n",
    "![Information to be scraped](hotel_info.png)\n",
    "\n",
    "Of course, feel free to collect even more data if you want. "
   ]
  },
  {
   "cell_type": "code",
   "execution_count": 4,
   "metadata": {
    "collapsed": false,
    "scrolled": false
   },
   "outputs": [
    {
     "name": "stdout",
     "output_type": "stream",
     "text": [
      "The Boston Common Hotel and Conference Center does not exist!\n",
      "enVision Hotel Boston does not exist!\n",
      "Battery Wharf Hotel, Boston Waterfront does not exist!\n",
      "Sheraton Boston Hotel does not exist!\n",
      "Hilton Boston Downtown / Faneuil Hall does not exist!\n",
      "Aloft Boston Seaport does not exist!\n",
      "Ames Boston Hotel does not exist!\n",
      "Element Boston Seaport does not exist!\n",
      "Holiday Inn Express Hotel &amp; Suites Boston Garden does not exist!\n",
      "Revere Hotel Boston Common does not exist!\n",
      "The Liberty Hotel does not exist!\n",
      "The Godfrey Hotel Boston does not exist!\n",
      "Wyndham Boston Beacon Hill does not exist!\n",
      "Loews Boston Hotel does not exist!\n",
      "The Boxer Boston does not exist!\n",
      "W Boston does not exist!\n",
      "Omni Parker House does not exist!\n",
      "The Verb Hotel does not exist!\n",
      "Residence Inn Boston Back Bay / Fenway does not exist!\n",
      "Hilton Garden Inn Boston Logan Airport does not exist!\n",
      "Residence Inn Boston Downtown Seaport does not exist!\n",
      "The Envoy Hotel, Autograph Collection does not exist!\n",
      "DoubleTree by Hilton Hotel Boston - Downtown does not exist!\n",
      "Done!\n"
     ]
    }
   ],
   "source": [
    "from BeautifulSoup import BeautifulSoup\n",
    "import requests\n",
    "import time\n",
    "\n",
    "def download_html(url):\n",
    "    headers = { 'User-Agent' : \"Mozilla/5.0 (Macintosh; Intel Mac \" + \\\n",
    "                \"OS X 10_10_2) AppleWebKit/537.36 (KHTML, like Gecko)\" + \\\n",
    "               \"Chrome/41.0.2272.76 Safari/537.36\" }\n",
    "    response = requests.get(url, headers=headers)\n",
    "    html = response.text.encode('utf-8')\n",
    "    return html\n",
    "\n",
    "def extract_hotel_data():\n",
    "    base_url = 'https://www.tripadvisor.com'\n",
    "    params = '/Hotels-g60745-Boston_Massachusetts-Hotels.html'\n",
    "    hotels = {}\n",
    "    while True:\n",
    "        html = download_html(base_url + params)\n",
    "        soup = BeautifulSoup(html)\n",
    "        next_page = soup.find(\"div\", {\"class\" : \"unified pagination standard_pagination\"})\n",
    "        hotel_boxes = soup.findAll('div', {'class' :'listing easyClear  p13n_imperfect '})\n",
    "        for hotel_box in hotel_boxes:\n",
    "            name = hotel_box.find('div', {'class' :'listing_title'}).find(text=True)\n",
    "            url =  base_url + hotel_box.findAll('a', href= True)[0]['href']\n",
    "            hotels[name] = url\n",
    "        if next_page.find('span', {'class' : 'nav next ui_button disabled'}):\n",
    "            break\n",
    "        else:\n",
    "            hrefs = next_page.findAll('a', href= True)\n",
    "            for href in hrefs:\n",
    "                if href.find(text = True) == 'Next':\n",
    "                    params = href['href']\n",
    "                    break\n",
    "            time.sleep(2)\n",
    "    review_data = load_and_parse_data()\n",
    "    for hotel in hotels:\n",
    "        time.sleep(2)\n",
    "        hotel_data = get_hotel_attribs(hotels[hotel])\n",
    "        if hotel in review_data:\n",
    "            for key in hotel_data:\n",
    "                review_data[hotel][key] = hotel_data[key]\n",
    "        else:\n",
    "            print(hotel + ' does not exist!')\n",
    "    return review_data\n",
    "\n",
    "def load_and_parse_data():\n",
    "    fname = 'rating-summary.dat'\n",
    "    data = [row.split(':') for row in open(fname, 'r').read().split('\\n') if row != '']\n",
    "    \n",
    "    def new_hotel():\n",
    "        return {'Service': {1: 0, 2: 0, 3: 0, 4: 0, 5: 0}, \n",
    "                'Cleanliness': {1: 0, 2: 0, 3: 0, 4: 0, 5: 0},\n",
    "                'Business service (e.g., internet access)': {1: 0, 2: 0, 3: 0, 4: 0, 5: 0},\n",
    "                'Check in / front desk': {1: 0, 2: 0, 3: 0, 4: 0, 5: 0},\n",
    "                'Value': {1: 0, 2: 0, 3: 0, 4: 0, 5: 0},\n",
    "                'Sleep Quality': {1: 0, 2: 0, 3: 0, 4: 0, 5: 0},\n",
    "                'Rooms': {1: 0, 2: 0, 3: 0, 4: 0, 5: 0},\n",
    "                'Location': {1: 0, 2: 0, 3: 0, 4: 0, 5: 0}}\n",
    "    \n",
    "    hotels = dict()\n",
    "    for entry in data:\n",
    "        hotel, cat, rating, count = entry[0], entry[1], int(entry[2]), int(entry[3])\n",
    "        if hotel not in hotels:\n",
    "            hotels[hotel] = dict()\n",
    "            hotels[hotel]['Attribute'] = new_hotel()\n",
    "        hotels[hotel]['Attribute'][cat][rating] += count\n",
    "        \n",
    "    to_remove = []\n",
    "    for hotel in hotels:\n",
    "        for cat in hotels[hotel]['Attribute']:\n",
    "            ratings = list(hotels[hotel]['Attribute'][cat].keys())\n",
    "            count = list(hotels[hotel]['Attribute'][cat].values())\n",
    "            try: # in case hotel has no reviews, avoid division by zero\n",
    "                avg = sum([ratings[i]*count[i] for i in range(5)])/float(sum(count))\n",
    "                hotels[hotel]['Attribute'][cat] = avg\n",
    "            except:\n",
    "                to_remove.append(hotel)\n",
    "                break\n",
    "    \n",
    "    for hotel in to_remove:\n",
    "        hotels.pop(hotel)\n",
    "    \n",
    "    return hotels\n",
    "\n",
    "def get_hotel_attribs(url):\n",
    "    html = download_html(url)\n",
    "    soup = BeautifulSoup(html)\n",
    "    data = {\"Rating\": {}, \"Type\": {}}\n",
    "            \n",
    "    rating_str = \"taplc_prodp13n_hr_sur_review_filter_controls_0_filterRating_\"\n",
    "    for i in range(1, 6):\n",
    "        rating = soup.find(\"label\", {\"for\" : rating_str + str(i)})\n",
    "        rating = int(str(rating.findAll(\"span\")[-2]).partition(\">\")[2].partition(\"<\")[0].replace(\",\", \"\"))\n",
    "        data['Rating'][i] = rating\n",
    "    \n",
    "    ratings = list(data['Rating'].keys())\n",
    "    count = list(data['Rating'].values())\n",
    "    avg = sum([ratings[i]*count[i] for i in range(5)])/float(sum(count))\n",
    "    data['Rating']['Average'] = avg\n",
    "        \n",
    "    type_str = \"taplc_prodp13n_hr_sur_review_filter_controls_0_filterSegment_\"\n",
    "    for typ in ['Family', 'Couples', 'Solo', 'Business', 'Friends']:\n",
    "        trav_typ = soup.find(\"label\", {\"for\" : type_str + typ}).find(\"span\")\n",
    "        trav_typ = int(str(trav_typ).partition(\"(\")[2].partition(\")\")[0].replace(\",\", \"\"))\n",
    "        data['Type'][typ] = trav_typ\n",
    "        \n",
    "    return data\n",
    "\n",
    "data = extract_hotel_data()\n",
    "f = open('first_test.txt', 'w')\n",
    "f.write(str(data))\n",
    "f.close()\n",
    "print('Done!')"
   ]
  },
  {
   "cell_type": "markdown",
   "metadata": {},
   "source": [
    "** Task 2 (20 pts) **\n",
    "\n",
    "Now, we will use regression to analyze this information. First, we will fit a linear regression model that predicts the average rating. For example, for the hotel above, the average rating is\n",
    "\n",
    "$$ \\text{AVG_SCORE} = \\frac{1*31 + 2*33 + 3*98 + 4*504 + 5*1861}{2527}$$\n",
    "\n",
    "Use the model to analyze the important factors that decide the $\\text{AVG_SCORE}$."
   ]
  },
  {
   "cell_type": "code",
   "execution_count": 16,
   "metadata": {
    "collapsed": false
   },
   "outputs": [
    {
     "name": "stdout",
     "output_type": "stream",
     "text": [
      "                            OLS Regression Results                            \n",
      "==============================================================================\n",
      "Dep. Variable:                      y   R-squared:                       1.000\n",
      "Model:                            OLS   Adj. R-squared:                  1.000\n",
      "Method:                 Least Squares   F-statistic:                 1.347e+04\n",
      "Date:                Mon, 28 Mar 2016   Prob (F-statistic):           1.73e-71\n",
      "Time:                        01:13:04   Log-Likelihood:                 89.681\n",
      "No. Observations:                  59   AIC:                            -143.4\n",
      "Df Residuals:                      41   BIC:                            -106.0\n",
      "Df Model:                          18                                         \n",
      "Covariance Type:            nonrobust                                         \n",
      "==============================================================================\n",
      "                 coef    std err          t      P>|t|      [95.0% Conf. Int.]\n",
      "------------------------------------------------------------------------------\n",
      "x1             0.0959      0.099      0.967      0.339        -0.104     0.296\n",
      "x2             0.4128      0.087      4.749      0.000         0.237     0.588\n",
      "x3             0.1523      0.097      1.577      0.122        -0.043     0.347\n",
      "x4             0.1491      0.107      1.394      0.171        -0.067     0.365\n",
      "x5             0.0004      0.027      0.014      0.989        -0.055     0.055\n",
      "x6             0.0274      0.041      0.666      0.509        -0.056     0.110\n",
      "x7            -0.0135      0.063     -0.216      0.830        -0.140     0.113\n",
      "x8             0.1496      0.029      5.075      0.000         0.090     0.209\n",
      "x9            -0.0003      0.000     -0.883      0.383        -0.001     0.000\n",
      "x10         6.786e-05      0.000      0.165      0.870        -0.001     0.001\n",
      "x11            0.0004      0.000      1.103      0.276        -0.000     0.001\n",
      "x12           -0.0002      0.000     -0.757      0.454        -0.001     0.000\n",
      "x13           -0.0004      0.000     -1.193      0.240        -0.001     0.000\n",
      "x14            0.0005      0.001      0.563      0.576        -0.001     0.002\n",
      "x15            0.0001      0.001      0.154      0.878        -0.002     0.002\n",
      "x16           -0.0002      0.001     -0.417      0.679        -0.001     0.001\n",
      "x17            0.0002      0.000      0.672      0.506        -0.000     0.001\n",
      "x18            0.0003      0.000      1.003      0.322        -0.000     0.001\n",
      "==============================================================================\n",
      "Omnibus:                        3.196   Durbin-Watson:                   1.529\n",
      "Prob(Omnibus):                  0.202   Jarque-Bera (JB):                2.375\n",
      "Skew:                          -0.301   Prob(JB):                        0.305\n",
      "Kurtosis:                       3.777   Cond. No.                     2.22e+04\n",
      "==============================================================================\n",
      "\n",
      "Warnings:\n",
      "[1] Standard Errors assume that the covariance matrix of the errors is correctly specified.\n",
      "[2] The condition number is large, 2.22e+04. This might indicate that there are\n",
      "strong multicollinearity or other numerical problems.\n"
     ]
    }
   ],
   "source": [
    "import statsmodels.api as sm\n",
    "import numpy as np\n",
    "\n",
    "sleep = [data[hotel]['Attribute']['Sleep Quality'] for hotel in data]\n",
    "rooms = [data[hotel]['Attribute']['Rooms'] for hotel in data]\n",
    "service = [data[hotel]['Attribute']['Service'] for hotel in data]\n",
    "cleanliness = [data[hotel]['Attribute']['Cleanliness'] for hotel in data]\n",
    "business_service = [data[hotel]['Attribute']['Business service (e.g., internet access)'] for hotel in data]\n",
    "front_desk = [data[hotel]['Attribute']['Check in / front desk'] for hotel in data]\n",
    "value = [data[hotel]['Attribute']['Value'] for hotel in data]\n",
    "location = [data[hotel]['Attribute']['Location'] for hotel in data]\n",
    "couples = [data[hotel]['Type']['Couples'] for hotel in data]\n",
    "solo = [data[hotel]['Type']['Solo'] for hotel in data]\n",
    "friends = [data[hotel]['Type']['Friends'] for hotel in data]\n",
    "business = [data[hotel]['Type']['Business'] for hotel in data]\n",
    "family = [data[hotel]['Type']['Family'] for hotel in data]\n",
    "rating1 = [data[hotel]['Rating'][1] for hotel in data]\n",
    "rating2 = [data[hotel]['Rating'][2] for hotel in data]\n",
    "rating3 = [data[hotel]['Rating'][3] for hotel in data]\n",
    "rating4 = [data[hotel]['Rating'][4] for hotel in data]\n",
    "rating5 = [data[hotel]['Rating'][5] for hotel in data]\n",
    "\n",
    "c\n",
    "X = np.array([sleep, rooms, service, cleanliness, business_service, front_desk, \\\n",
    "    value, location, couples, solo, friends, business, family, rating1, \\\n",
    "    rating2, rating3, rating4, rating5]).T\n",
    "\n",
    "model = sm.OLS(y, X)\n",
    "results = model.fit()\n",
    "print results.summary()"
   ]
  },
  {
   "cell_type": "markdown",
   "metadata": {},
   "source": [
    "** Task 3 (30 pts) **\n",
    "\n",
    "Finally, we will use logistic regression to decide if a hotel is _excellent_ or not. We classify a hotel as _excellent_ if more than **60%** of its ratings are 5 stars. This is a binary attribute on which we can fit a logistic regression model. As before, use the model to analyze the data."
   ]
  },
  {
   "cell_type": "code",
   "execution_count": 21,
   "metadata": {
    "collapsed": false
   },
   "outputs": [
    {
     "ename": "ValueError",
     "evalue": "endog must be in the unit interval.",
     "output_type": "error",
     "traceback": [
      "\u001b[0;31m---------------------------------------------------------------------------\u001b[0m",
      "\u001b[0;31mValueError\u001b[0m                                Traceback (most recent call last)",
      "\u001b[0;32m<ipython-input-21-b3289f42a48b>\u001b[0m in \u001b[0;36m<module>\u001b[0;34m()\u001b[0m\n\u001b[1;32m      1\u001b[0m \u001b[0my_binary\u001b[0m \u001b[0;34m=\u001b[0m \u001b[0mnp\u001b[0m\u001b[0;34m.\u001b[0m\u001b[0marray\u001b[0m\u001b[0;34m(\u001b[0m\u001b[0;34m[\u001b[0m\u001b[0;36m1\u001b[0m \u001b[0;32mif\u001b[0m \u001b[0mdata\u001b[0m\u001b[0;34m[\u001b[0m\u001b[0mhotel\u001b[0m\u001b[0;34m]\u001b[0m\u001b[0;34m[\u001b[0m\u001b[0;34m'Rating'\u001b[0m\u001b[0;34m]\u001b[0m\u001b[0;34m[\u001b[0m\u001b[0;36m5\u001b[0m\u001b[0;34m]\u001b[0m \u001b[0;34m>=\u001b[0m \u001b[0msum\u001b[0m\u001b[0;34m(\u001b[0m\u001b[0mlist\u001b[0m\u001b[0;34m(\u001b[0m\u001b[0mdata\u001b[0m\u001b[0;34m[\u001b[0m\u001b[0mhotel\u001b[0m\u001b[0;34m]\u001b[0m\u001b[0;34m[\u001b[0m\u001b[0;34m'Rating'\u001b[0m\u001b[0;34m]\u001b[0m\u001b[0;34m.\u001b[0m\u001b[0mvalues\u001b[0m\u001b[0;34m(\u001b[0m\u001b[0;34m)\u001b[0m\u001b[0;34m)\u001b[0m\u001b[0;34m)\u001b[0m\u001b[0;34m*\u001b[0m\u001b[0;36m.6\u001b[0m                      \u001b[0;32melse\u001b[0m \u001b[0;36m0\u001b[0m \u001b[0;32mfor\u001b[0m \u001b[0mhotel\u001b[0m \u001b[0;32min\u001b[0m \u001b[0mdata\u001b[0m\u001b[0;34m]\u001b[0m\u001b[0;34m)\u001b[0m\u001b[0;34m\u001b[0m\u001b[0m\n\u001b[1;32m      2\u001b[0m \u001b[0;34m\u001b[0m\u001b[0m\n\u001b[0;32m----> 3\u001b[0;31m \u001b[0mlogit\u001b[0m \u001b[0;34m=\u001b[0m \u001b[0msm\u001b[0m\u001b[0;34m.\u001b[0m\u001b[0mLogit\u001b[0m\u001b[0;34m(\u001b[0m\u001b[0my\u001b[0m\u001b[0;34m,\u001b[0m \u001b[0mX\u001b[0m\u001b[0;34m)\u001b[0m\u001b[0;34m\u001b[0m\u001b[0m\n\u001b[0m\u001b[1;32m      4\u001b[0m \u001b[0mresult\u001b[0m \u001b[0;34m=\u001b[0m \u001b[0mlogit\u001b[0m\u001b[0;34m.\u001b[0m\u001b[0mfit\u001b[0m\u001b[0;34m(\u001b[0m\u001b[0;34m)\u001b[0m\u001b[0;34m\u001b[0m\u001b[0m\n\u001b[1;32m      5\u001b[0m \u001b[0;32mprint\u001b[0m \u001b[0mresult\u001b[0m\u001b[0;34m.\u001b[0m\u001b[0msummary\u001b[0m\u001b[0;34m(\u001b[0m\u001b[0;34m)\u001b[0m\u001b[0;34m\u001b[0m\u001b[0m\n",
      "\u001b[0;32m/Users/coreyclemente/anaconda/lib/python2.7/site-packages/statsmodels/discrete/discrete_model.pyc\u001b[0m in \u001b[0;36m__init__\u001b[0;34m(self, endog, exog, **kwargs)\u001b[0m\n\u001b[1;32m    402\u001b[0m         if (self.__class__.__name__ != 'MNLogit' and\n\u001b[1;32m    403\u001b[0m                 not np.all((self.endog >= 0) & (self.endog <= 1))):\n\u001b[0;32m--> 404\u001b[0;31m             \u001b[0;32mraise\u001b[0m \u001b[0mValueError\u001b[0m\u001b[0;34m(\u001b[0m\u001b[0;34m\"endog must be in the unit interval.\"\u001b[0m\u001b[0;34m)\u001b[0m\u001b[0;34m\u001b[0m\u001b[0m\n\u001b[0m\u001b[1;32m    405\u001b[0m \u001b[0;34m\u001b[0m\u001b[0m\n\u001b[1;32m    406\u001b[0m \u001b[0;34m\u001b[0m\u001b[0m\n",
      "\u001b[0;31mValueError\u001b[0m: endog must be in the unit interval."
     ]
    }
   ],
   "source": [
    "y_binary = np.array([1 if data[hotel]['Rating'][5] >= sum(list(data[hotel]['Rating'].values()))*.6 \\\n",
    "                     else 0 for hotel in data])\n",
    "\n",
    "logit = sm.Logit(y, X)\n",
    "result = logit.fit()\n",
    "print result.summary()"
   ]
  },
  {
   "cell_type": "markdown",
   "metadata": {},
   "source": [
    "-------"
   ]
  },
  {
   "cell_type": "code",
   "execution_count": null,
   "metadata": {
    "collapsed": false
   },
   "outputs": [],
   "source": [
    "# Code for setting the style of the notebook\n",
    "from IPython.core.display import HTML\n",
    "def css_styling():\n",
    "    styles = open(\"../../theme/custom.css\", \"r\").read()\n",
    "    return HTML(styles)\n",
    "css_styling()"
   ]
  }
 ],
 "metadata": {
  "kernelspec": {
   "display_name": "Python 2",
   "language": "python",
   "name": "python2"
  },
  "language_info": {
   "codemirror_mode": {
    "name": "ipython",
    "version": 2
   },
   "file_extension": ".py",
   "mimetype": "text/x-python",
   "name": "python",
   "nbconvert_exporter": "python",
   "pygments_lexer": "ipython2",
   "version": "2.7.11"
  }
 },
 "nbformat": 4,
 "nbformat_minor": 0
}
