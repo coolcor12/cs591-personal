{
 "cells": [
  {
   "cell_type": "markdown",
   "metadata": {},
   "source": [
    "(In order to load the stylesheet of this notebook, execute the last code cell in this notebook)"
   ]
  },
  {
   "cell_type": "markdown",
   "metadata": {},
   "source": [
    "# Recommender System for Amazon Electronics"
   ]
  },
  {
   "cell_type": "markdown",
   "metadata": {},
   "source": [
    "In this assignment, we will be working with the [Amazon dataset](http://cs-people.bu.edu/kzhao/teaching/amazon_reviews_Electronics.tar.gz). You will build a recommender system to make predictions related to reviews of Electronics products on Amazon.\n",
    "\n",
    "Your grades will be determined by your performance on the predictive tasks as well as a brief written report about the approaches you took.\n",
    "\n",
    "This assignment should be completed **individually**."
   ]
  },
  {
   "cell_type": "markdown",
   "metadata": {},
   "source": [
    "## Files"
   ]
  },
  {
   "cell_type": "markdown",
   "metadata": {},
   "source": [
    "**train.json** 1,000,000 reviews to be used for training. It is not necessary to use all reviews for training if doing so proves too computationally intensive. The fields in this file are:\n",
    "\n",
    "* **reviewerID** The ID of the reviewer. This is a hashed user identifier from Amazon.\n",
    "\n",
    "* **asin** The ID of the item. This is a hashed product identifier from Amazon.\n",
    "\n",
    "* **overall** The rating of reviewer gave the item.\n",
    "\n",
    "* **helpful** The helpfulness votes for the review. This has 2 subfields, 'nHelpful' and 'outOf'. The latter is the total number of votes this review received. The former is the number of those that considered the review to be helpful.\n",
    "\n",
    "* **reviewText** The text of the review.\n",
    "\n",
    "* **summary** The summary of the review.\n",
    "\n",
    "* **unixReviewTime** The time of the review in seconds since 1970."
   ]
  },
  {
   "cell_type": "markdown",
   "metadata": {},
   "source": [
    "**meta.json** Contains metadata of the items:\n",
    "\n",
    "* **asin** The ID of the item.\n",
    "\n",
    "* **categories** The category labels of the item being reviewed.\n",
    "\n",
    "* **price** The price of the item.\n",
    "\n",
    "* **brand** The brand of the item."
   ]
  },
  {
   "cell_type": "markdown",
   "metadata": {},
   "source": [
    "**pairs_Rating.txt** The pairs (reviewerID and asin) on which you are to predict ratings.\n",
    "\n",
    "**pairs_Purchase.txt** The pairs on which you are to predict whether a user purchased an item or not.\n",
    "\n",
    "**pairs_Helpful.txt** The pairs on which you are to predict helpfulness votes. A third column in this file is the total number of votes from which you should predict how many were helpful."
   ]
  },
  {
   "cell_type": "markdown",
   "metadata": {},
   "source": [
    "**helpful.json** The review data associated with the helpfulness prediction test set. The 'nHelpful' field has been removed from this data since that is the value you need to predict above. This data will only be of use for the helpfulness prediction task."
   ]
  },
  {
   "cell_type": "markdown",
   "metadata": {},
   "source": [
    "**baseline.py** A simple baseline for each task."
   ]
  },
  {
   "cell_type": "markdown",
   "metadata": {
    "collapsed": true
   },
   "source": [
    "## Tasks"
   ]
  },
  {
   "cell_type": "markdown",
   "metadata": {},
   "source": [
    "**Rating prediction** Predict people's star ratings as accurately as possible for those (reviewerID, asin) pairs in 'pairs_Rating.txt'. Accuracy will be measured in terms of the [root mean-squared error (RMSE)](http://www.kaggle.com/wiki/RootMeanSquaredError).\n",
    "\n",
    "**Purchase prediction** Predict given a (reviewerID, asin) pair from 'pairs_Purchase.txt' whether the user purchased the item (really, whether it was one of the items they reviewed). Accuracy will be measured in terms of the [categorization accuracy](http://www.kaggle.com/wiki/HammingLoss) (1 minus the Hamming loss).\n",
    "\n",
    "**Helpfulness prediction** Predic whether a user's review of an item will be considered helpful. The file 'pairs_Helpful.txt' contains (reviewerID, asin) pairs with a third column containing the number of votes the user's review of the item received. You must predict how many of them were helpful. Accuracy will be measured in terms of the total [absolute error](http://www.kaggle.com/wiki/AbsoluteError), i.e. you are penalized one according to the difference |nHelpful - prediction|, where 'nHelpful' is the number of helpful votes the review actually received, and 'prediction' is your prediction of this quantity.\n",
    "\n",
    "We set up competitions on Kaggle to keep track of your results compared to those of other members of the class. The leaderboard will show your results on half of the test data, but your ultimate score will depend on your predictions across the whole dataset.\n",
    "* Kaggle competition: [rating prediction](https://inclass.kaggle.com/c/cs591-hw3-rating-prediction3) click here to [join](https://kaggle.com/join/datascience16rating)\n",
    "* Kaggle competition: [purchase prediction](https://inclass.kaggle.com/c/cs591-hw3-purchase-prediction) click here to [join](https://kaggle.com/join/datascience16purchase)\n",
    "* Kaggle competition: [helpfulness prediction](https://inclass.kaggle.com/c/cs591-hw3-helpful-prediction) click here to [join](https://kaggle.com/join/datascience16helpful)"
   ]
  },
  {
   "cell_type": "markdown",
   "metadata": {},
   "source": [
    "## Grading and Evaluation"
   ]
  },
  {
   "cell_type": "markdown",
   "metadata": {},
   "source": [
    "You will be graded on the following aspects.\n",
    "\n",
    "* Your written report. This should describe the approaches you took to each of the 3 tasks. To obtain good performance, you should not need to invent new approaches (though you are more than welcome to) but rather you will be graded based on your decision to apply reasonable approaches to each of the given tasks. (**10pts** for each task)\n",
    "\n",
    "* Your ability to obtain a solution which outperforms the baselines on the unseen portion of the test data. Obtaining full marks requires a solution which is substantially better (at least several percent) than baseline performance. (**10pts** for each task)\n",
    "\n",
    "* Your ranking for each of the three tasks compared to other students in the class. (**5pts** for each task)\n",
    "\n",
    "* Obtain a solution which outperforms the baselines on the seen portion of the test data (the leaderboard). \n",
    "(**5pts** for each task)"
   ]
  },
  {
   "cell_type": "markdown",
   "metadata": {},
   "source": [
    "## Baselines"
   ]
  },
  {
   "cell_type": "markdown",
   "metadata": {},
   "source": [
    "Simple baselines have been provided for each of the 3 tasks. These are included in 'baselines.py' among the files above. These 3 baselines operate as follows:\n",
    "\n",
    "**Rating prediction** Returns the global average rating, or the user's average if you have seen them before in the training data.\n",
    "\n",
    "**Purchase prediction** Finds the most popular products that account for 50% of purchases in the training data. Return '1' whenever such a product is seen at test time, '0' otherwise.\n",
    "\n",
    "** Helpfulness prediction** Multiplies the number of votes by the global average helpfulness rate, or the user's rate if we saw this user in the training data.\n",
    "\n",
    "Running 'baseline.py' produces 3 files containing predicted outputs. Your submission files should have the same format."
   ]
  },
  {
   "cell_type": "markdown",
   "metadata": {},
   "source": [
    "## Dataset Citation"
   ]
  },
  {
   "cell_type": "markdown",
   "metadata": {},
   "source": [
    "**Image-based recommendations on styles and substitutes** J. McAuley, C. Targett, J. Shi, A. van den Hengel *SIGIR*, 2015\n",
    "\n",
    "**Inferring networks of substitutable and complementary products** J. McAuley, R. Pandey, J. Leskovec *Knowledge Discovery and Data Mining*, 2015"
   ]
  },
  {
   "cell_type": "markdown",
   "metadata": {},
   "source": [
    "-----------------"
   ]
  },
  {
   "cell_type": "code",
   "execution_count": 57,
   "metadata": {
    "collapsed": false
   },
   "outputs": [],
   "source": [
    "# Parse data and feature extract, pickle resulting dictionaries for easier loading\n",
    "\n",
    "from textblob import TextBlob\n",
    "\n",
    "def build_item_data():\n",
    "    meta = 'amazon_reviews_Electronics/meta.json'\n",
    "    items = {}\n",
    "    item = None\n",
    "    cats = None\n",
    "    price = None\n",
    "    for line in open(meta):\n",
    "        item = eval(line)\n",
    "        cats = eval(item['categories'].replace('\"', '')\\\n",
    "                    .replace(\"',\", '\",').replace(\" '\", ' \"')\\\n",
    "                    .replace(\"']\", '\"]').replace(\"['\", '[\"'))\n",
    "        try:\n",
    "            price = float(item['price'])\n",
    "        except:\n",
    "            price = None\n",
    "        items[item['asin']] = {'category': [x[0] for x in cats],\n",
    "                               'price': price,\n",
    "                               'review_num': 0,\n",
    "                               'avg_polarity': [],\n",
    "                               'avg_subjectivity': [],\n",
    "                               'avg_rating': []}           \n",
    "    return items\n",
    "\n",
    "def build_user_data(items):\n",
    "    \n",
    "    def new_user():\n",
    "        return {'item': [],\n",
    "                'polarity': [],\n",
    "                'subjectivity': [],\n",
    "                'rating': [],\n",
    "                'text': [],\n",
    "                'helpful_vote': [],\n",
    "                'total_vote': [],\n",
    "                'category': {},\n",
    "                'stats': {}}\n",
    "    \n",
    "    users = {}\n",
    "    for line in open('amazon_reviews_Electronics/train.json'):\n",
    "        review = eval(line)\n",
    "        user = review['reviewerID']\n",
    "        item = review['asin']\n",
    "        categories = items[item]['category']\n",
    "        polarity, subjectivity = TextBlob(review['reviewText']).sentiment\n",
    "        if user not in users:\n",
    "            users[user] = new_user()\n",
    "        users[user]['text'] += [review['reviewText']]\n",
    "        users[user]['polarity'] += [polarity]\n",
    "        users[user]['subjectivity'] += [subjectivity]\n",
    "        users[user]['rating'] += [float(review['overall'])]\n",
    "        users[user]['item'] += [item]\n",
    "        users[user]['helpful_vote'] += [int(review['helpful']['nHelpful'])]\n",
    "        users[user]['total_vote'] += [int(review['helpful']['outOf'])]\n",
    "        for category in categories:\n",
    "            if category not in users[user]['category']:\n",
    "                users[user]['category'][category] = 0\n",
    "            users[user]['category'][category] += 1\n",
    "        items[item]['review_num'] += 1\n",
    "        items[item]['avg_polarity'] += [polarity]\n",
    "        items[item]['avg_subjectivity'] += [subjectivity]\n",
    "        items[item]['avg_rating'] += [float(review['overall'])]\n",
    "            \n",
    "    for user in users:\n",
    "        avg_rating = sum(users[user]['rating'])/float(len(users[user]['rating']))\n",
    "        avg_polarity = sum(users[user]['polarity'])/float(len(users[user]['polarity']))\n",
    "        avg_subj = sum(users[user]['subjectivity'])/float(len(users[user]['subjectivity']))\n",
    "        purchase_num = len(users[user]['item'])\n",
    "        distinct_cats = len(users[user]['category'])\n",
    "        \n",
    "        running_sum = 0\n",
    "        count = 0\n",
    "        for asin in users[user]['item']:\n",
    "            if items[asin]['price'] != None:\n",
    "                running_sum += items[asin]['price']\n",
    "                count += 1 \n",
    "        try:\n",
    "            avg_price = running_sum / float(count)\n",
    "        except:\n",
    "            avg_price = None\n",
    "        \n",
    "        users[user]['stats']['avg_rating'] = avg_rating\n",
    "        users[user]['stats']['avg_polarity'] = avg_polarity\n",
    "        users[user]['stats']['avg_subjectivity'] = avg_subj\n",
    "        users[user]['stats']['purchase_num'] = purchase_num\n",
    "        users[user]['stats']['distinct_cats'] = distinct_cats\n",
    "        users[user]['stats']['avg_price'] = avg_price\n",
    "        \n",
    "    for item in items:\n",
    "        try:\n",
    "            items[item]['avg_polarity'] = sum(items[item]['avg_polarity'])/float(len(items[item]['avg_polarity']))\n",
    "            items[item]['avg_subjectivity'] = sum(items[item]['avg_subjectivity'])/float(len(items[item]['avg_subjectivity']))\n",
    "            items[item]['avg_rating'] = sum(items[item]['avg_rating'])/float(len(items[item]['avg_rating']))\n",
    "        except:\n",
    "            items[item]['avg_polarity'] = None\n",
    "            items[item]['avg_subjectivity'] = None\n",
    "            items[item]['avg_rating'] = None\n",
    "        \n",
    "    return users\n",
    " \n",
    "items = build_item_data()\n",
    "users = build_user_data(items)\n",
    "pickle.dump(items, open('items.p', 'wb'))\n",
    "pickle.dump(users, open('users.p', 'wb'))"
   ]
  },
  {
   "cell_type": "code",
   "execution_count": 94,
   "metadata": {
    "collapsed": false
   },
   "outputs": [],
   "source": [
    "# load things from last cell from save file\n",
    "# uncomment after running first cell and comment out last 4 lines in first cell\n",
    "\n",
    "import pickle\n",
    "\n",
    "#items = pickle.load(open('items.p', 'rb'))\n",
    "#users = pickle.load(open('users.p', 'rb')) # 1 gig large, beware"
   ]
  },
  {
   "cell_type": "code",
   "execution_count": 95,
   "metadata": {
    "collapsed": true
   },
   "outputs": [],
   "source": [
    "# Extra calculations needed later\n",
    "\n",
    "global_mean = sum([users[user]['stats']['avg_rating'] * \\\n",
    "                   users[user]['stats']['purchase_num'] for user in users]) / \\\n",
    "              float(sum([users[user]['stats']['purchase_num'] for user in users]))\n",
    "purchase_num_mean = sum([users[user]['stats']['purchase_num'] for user in users]) / \\\n",
    "                    float(len(users))\n",
    "helpful_mean = sum([sum(users[user]['helpful_vote']) for user in users]) / \\\n",
    "               float(sum([sum(users[user]['total_vote']) for user in users]))\n",
    "    \n",
    "for user in users:\n",
    "    users[user]['stats']['avg_helpful'] = sum(users[user]['helpful_vote']) / float(sum(users[user]['total_vote']))"
   ]
  },
  {
   "cell_type": "code",
   "execution_count": 96,
   "metadata": {
    "collapsed": false,
    "scrolled": true
   },
   "outputs": [
    {
     "name": "stdout",
     "output_type": "stream",
     "text": [
      "Complete!\n"
     ]
    }
   ],
   "source": [
    "# Rating Prediction: Part 1\n",
    "\n",
    "def all_info_rating(user, item):\n",
    "    u_avg = users[user]['stats']['avg_rating']\n",
    "    i_avg = items[item]['avg_rating']\n",
    "    try:\n",
    "        return (u_avg + i_avg + global_mean) / float(3)\n",
    "    except:\n",
    "        return only_user(user)\n",
    "\n",
    "def only_item_rating(item):\n",
    "    i_avg = items[item]['avg_rating']\n",
    "    if i_avg == None:\n",
    "        return global_mean\n",
    "    return (i_avg + global_mean) / float(2)\n",
    "\n",
    "def run_file_rating(users, items):\n",
    "    fname = 'amazon_reviews_Electronics/pairs_Rating.txt'\n",
    "    data = open(fname, 'r').read().split('\\n')\n",
    "    for i in range(len(data)):\n",
    "        data[i] = data[i].split('-')\n",
    "    while True:\n",
    "        if data[-1] != ['']:\n",
    "            break\n",
    "        data = data[:-1]\n",
    "    for i in range(1, len(data)):\n",
    "        user = data[i][0]\n",
    "        item = data[i][1]\n",
    "        if user in users and item in items:\n",
    "            data[i] += [all_info_rating(user, item)]\n",
    "        else:\n",
    "            data[i] += [only_item_rating(item)]\n",
    "    s = 'reviewerID-asin,prediction\\n'\n",
    "    for i in range(1, len(data)):\n",
    "        s += data[i][0] + '-' + data[i][1] + ',' + str(data[i][2]) + '\\n'\n",
    "    open('rating_prediction.csv', 'w').write(s)\n",
    "    print 'Complete!'\n",
    "    \n",
    "run_file_rating(users, items)"
   ]
  },
  {
   "cell_type": "code",
   "execution_count": 97,
   "metadata": {
    "collapsed": false
   },
   "outputs": [
    {
     "name": "stdout",
     "output_type": "stream",
     "text": [
      "Complete!\n"
     ]
    }
   ],
   "source": [
    "# Purchase Prediction: Part 2\n",
    "\n",
    "def all_info_purchase(user, item):\n",
    "    return int(items[item]['review_num'] > purchase_num_mean)\n",
    "\n",
    "def only_item_purchase(item):\n",
    "    return int(items[item]['review_num'] > purchase_num_mean)\n",
    "\n",
    "def run_file_purchase(users, items):\n",
    "    fname = 'amazon_reviews_Electronics/pairs_Purchase.txt'\n",
    "    data = open(fname, 'r').read().split('\\n')\n",
    "    for i in range(len(data)):\n",
    "        data[i] = data[i].split('-')\n",
    "    while True:\n",
    "        if data[-1] != ['']:\n",
    "            break\n",
    "        data = data[:-1]\n",
    "    for i in range(1, len(data)):\n",
    "        user = data[i][0]\n",
    "        item = data[i][1]\n",
    "        if user in users and item in items:\n",
    "            data[i] += [all_info_purchase(user, item)]\n",
    "        else:\n",
    "            data[i] += [only_item_purchase(item)]\n",
    "    s = 'reviewerID-asin,prediction\\n'\n",
    "    for i in range(1, len(data)):\n",
    "        s += data[i][0] + '-' + data[i][1] + ',' + str(data[i][2]) + '\\n'\n",
    "    open('purchase_prediction.csv', 'w').write(s)\n",
    "    print 'Complete!'\n",
    "    \n",
    "run_file_purchase(users, items)"
   ]
  },
  {
   "cell_type": "code",
   "execution_count": 98,
   "metadata": {
    "collapsed": false,
    "scrolled": true
   },
   "outputs": [
    {
     "name": "stdout",
     "output_type": "stream",
     "text": [
      "Complete!\n"
     ]
    }
   ],
   "source": [
    "# Helpfulness Prediction: Part 3\n",
    "\n",
    "def run_file_helpful(users, items):\n",
    "    helpful = 'amazon_reviews_Electronics/helpful.json'\n",
    "    item = None\n",
    "    data = []\n",
    "    for line in open(helpful):\n",
    "        item = eval(line)\n",
    "        data += [[item['reviewerID'], \n",
    "                  item['asin'], \n",
    "                  item['outOf'], \n",
    "                  round(((item['outOf']*helpful_mean) + \\\n",
    "                         (item['outOf']*users[user]['stats']['avg_helpful'])) / float(2))]]\n",
    "    s = 'reviewerID-asin-outOf,prediction\\n'\n",
    "    for i in range(len(data)):\n",
    "        s += data[i][0] + '-' + data[i][1] + '-' + str(data[i][2]) + ',' + str(data[i][3]) + '\\n'\n",
    "    open('helpful_prediction.csv', 'w').write(s)\n",
    "    print 'Complete!'\n",
    "    \n",
    "run_file_helpful(users, items)"
   ]
  },
  {
   "cell_type": "markdown",
   "metadata": {},
   "source": [
    "WRITTEN REPORT\n",
    "\n",
    "\n",
    "(in general): As you can see in my first code cell, I gathered and aggregated a lot more data than I ended up actually needing. After looking into the data, different types of averages worked best. I did not end up using any NLP results, along with category or brand.\n",
    "\n",
    "Task 1 - For task one, I implemented an aggregation of global, specific user and specific item averages. I chose this to model the user and item bias on the global mean, where I gave equal weight to the global mean rating, the user average ratings and the item average ratings. It turned out to work quite well on the unknown testing data.\n",
    "\n",
    "Task 2 - For task two, I only used one piece of data: whether the number of times this item was purchased was greater than the mean of purchased items. I tried many other things and nothing could beat it. In my other attempts, I used the user's propensity to buy anything at all, buy things at certain prices, or buy things with certain average ratings. Nothing outperformed the simple check I ended up using. \n",
    "\n",
    "Task 3 - For task three, I used a similiar method as with task one, giving equal weight to two averages, the global percentage of reviews that are helpful, and how helpful each users' reviews are. Again, I tried several other methods and this performed the best."
   ]
  },
  {
   "cell_type": "code",
   "execution_count": null,
   "metadata": {
    "collapsed": false
   },
   "outputs": [],
   "source": [
    "# Code for setting the style of the notebook\n",
    "from IPython.core.display import HTML\n",
    "def css_styling():\n",
    "    styles = open(\"../theme/custom.css\", \"r\").read()\n",
    "    return HTML(styles)\n",
    "css_styling()"
   ]
  }
 ],
 "metadata": {
  "kernelspec": {
   "display_name": "Python 2",
   "language": "python",
   "name": "python2"
  },
  "language_info": {
   "codemirror_mode": {
    "name": "ipython",
    "version": 2
   },
   "file_extension": ".py",
   "mimetype": "text/x-python",
   "name": "python",
   "nbconvert_exporter": "python",
   "pygments_lexer": "ipython2",
   "version": "2.7.11"
  }
 },
 "nbformat": 4,
 "nbformat_minor": 0
}
